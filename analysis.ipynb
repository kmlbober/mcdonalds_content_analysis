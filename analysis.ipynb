{
  "nbformat": 4,
  "nbformat_minor": 0,
  "metadata": {
    "kernelspec": {
      "display_name": "Python 3",
      "language": "python",
      "name": "python3"
    },
    "language_info": {
      "codemirror_mode": {
        "name": "ipython",
        "version": 3
      },
      "file_extension": ".py",
      "mimetype": "text/x-python",
      "name": "python",
      "nbconvert_exporter": "python",
      "pygments_lexer": "ipython3",
      "version": "3.7.6"
    },
    "colab": {
      "name": "Kopia notatnika Kamila Bober. Analiza obszarów niezadowolenia firmy McDonald's na podstawie tweetów.ipynb",
      "provenance": []
    }
  },
  "cells": [
    {
      "cell_type": "markdown",
      "metadata": {
        "id": "FxuxtQtZYFpz"
      },
      "source": [
        "# Analiza obszarów niezadowolenia firmy McDonald's na podstawie tweetów"
      ]
    },
    {
      "cell_type": "markdown",
      "metadata": {
        "id": "XlLqRN5gYR8w"
      },
      "source": [
        "**Importowanie bibliotek**"
      ]
    },
    {
      "cell_type": "code",
      "metadata": {
        "colab": {
          "base_uri": "https://localhost:8080/"
        },
        "id": "JPgnEot2d5ug",
        "outputId": "3efe97c0-caf7-4911-a064-1a1d6c9994f5"
      },
      "source": [
        "!pip install pyLDAvis"
      ],
      "execution_count": null,
      "outputs": [
        {
          "output_type": "stream",
          "text": [
            "Requirement already satisfied: pyLDAvis in /usr/local/lib/python3.7/dist-packages (3.3.1)\n",
            "Requirement already satisfied: numpy>=1.20.0 in /usr/local/lib/python3.7/dist-packages (from pyLDAvis) (1.20.3)\n",
            "Requirement already satisfied: joblib in /usr/local/lib/python3.7/dist-packages (from pyLDAvis) (1.0.1)\n",
            "Requirement already satisfied: scipy in /usr/local/lib/python3.7/dist-packages (from pyLDAvis) (1.4.1)\n",
            "Requirement already satisfied: funcy in /usr/local/lib/python3.7/dist-packages (from pyLDAvis) (1.16)\n",
            "Requirement already satisfied: gensim in /usr/local/lib/python3.7/dist-packages (from pyLDAvis) (3.6.0)\n",
            "Requirement already satisfied: setuptools in /usr/local/lib/python3.7/dist-packages (from pyLDAvis) (57.0.0)\n",
            "Requirement already satisfied: scikit-learn in /usr/local/lib/python3.7/dist-packages (from pyLDAvis) (0.22.2.post1)\n",
            "Requirement already satisfied: numexpr in /usr/local/lib/python3.7/dist-packages (from pyLDAvis) (2.7.3)\n",
            "Requirement already satisfied: sklearn in /usr/local/lib/python3.7/dist-packages (from pyLDAvis) (0.0)\n",
            "Requirement already satisfied: future in /usr/local/lib/python3.7/dist-packages (from pyLDAvis) (0.16.0)\n",
            "Requirement already satisfied: jinja2 in /usr/local/lib/python3.7/dist-packages (from pyLDAvis) (2.11.3)\n",
            "Requirement already satisfied: pandas>=1.2.0 in /usr/local/lib/python3.7/dist-packages (from pyLDAvis) (1.2.4)\n",
            "Requirement already satisfied: smart-open>=1.2.1 in /usr/local/lib/python3.7/dist-packages (from gensim->pyLDAvis) (5.1.0)\n",
            "Requirement already satisfied: six>=1.5.0 in /usr/local/lib/python3.7/dist-packages (from gensim->pyLDAvis) (1.15.0)\n",
            "Requirement already satisfied: MarkupSafe>=0.23 in /usr/local/lib/python3.7/dist-packages (from jinja2->pyLDAvis) (2.0.1)\n",
            "Requirement already satisfied: python-dateutil>=2.7.3 in /usr/local/lib/python3.7/dist-packages (from pandas>=1.2.0->pyLDAvis) (2.8.1)\n",
            "Requirement already satisfied: pytz>=2017.3 in /usr/local/lib/python3.7/dist-packages (from pandas>=1.2.0->pyLDAvis) (2018.9)\n"
          ],
          "name": "stdout"
        }
      ]
    },
    {
      "cell_type": "code",
      "metadata": {
        "colab": {
          "base_uri": "https://localhost:8080/"
        },
        "id": "SvfvFpmIcHXZ",
        "outputId": "435a0525-f878-43d1-9440-6980eb30cc64"
      },
      "source": [
        "import re\n",
        "from tqdm import tqdm\n",
        "import os\n",
        "import json\n",
        "\n",
        "import tweepy\n",
        "\n",
        "import nltk\n",
        "for package in [\"punkt\", \"wordnet\", \"stopwords\"]:\n",
        "    nltk.download(package)\n",
        "\n",
        "from nltk.corpus import stopwords\n",
        "from nltk.tokenize import word_tokenize\n",
        "from nltk.stem import WordNetLemmatizer, PorterStemmer\n",
        "\n",
        "from sklearn.feature_extraction.text import CountVectorizer\n",
        "from sklearn.decomposition import LatentDirichletAllocation\n",
        "from sklearn.model_selection import GridSearchCV\n",
        "from sklearn.metrics.pairwise import euclidean_distances, cosine_distances\n",
        "\n",
        "import pyLDAvis\n",
        "import pyLDAvis.sklearn\n",
        "import matplotlib.pyplot as plt\n",
        "\n",
        "import pandas as pd\n",
        "import numpy as np\n",
        "\n",
        "%matplotlib inline"
      ],
      "execution_count": null,
      "outputs": [
        {
          "output_type": "stream",
          "text": [
            "[nltk_data] Downloading package punkt to /root/nltk_data...\n",
            "[nltk_data]   Package punkt is already up-to-date!\n",
            "[nltk_data] Downloading package wordnet to /root/nltk_data...\n",
            "[nltk_data]   Package wordnet is already up-to-date!\n",
            "[nltk_data] Downloading package stopwords to /root/nltk_data...\n",
            "[nltk_data]   Package stopwords is already up-to-date!\n"
          ],
          "name": "stdout"
        },
        {
          "output_type": "stream",
          "text": [
            "/usr/local/lib/python3.7/dist-packages/past/types/oldstr.py:5: DeprecationWarning: Using or importing the ABCs from 'collections' instead of from 'collections.abc' is deprecated since Python 3.3,and in 3.9 it will stop working\n",
            "  from collections import Iterable\n",
            "/usr/local/lib/python3.7/dist-packages/past/builtins/misc.py:4: DeprecationWarning: Using or importing the ABCs from 'collections' instead of from 'collections.abc' is deprecated since Python 3.3,and in 3.9 it will stop working\n",
            "  from collections import Mapping\n"
          ],
          "name": "stderr"
        }
      ]
    },
    {
      "cell_type": "markdown",
      "metadata": {
        "id": "4fMDoKbQa1vd"
      },
      "source": [
        "#### Pobieranie tweetów "
      ]
    },
    {
      "cell_type": "code",
      "metadata": {
        "id": "677oh9zyYAa3"
      },
      "source": [
        "# Miejsce na wprowadzenie kluczy autoryzacyjnych\n",
        "\n",
        "consumer_key= 'miejsce klucz'\n",
        "consumer_secret= 'miejsce na klucz'\n",
        "access_token= 'miejsce na token'\n",
        "access_token_secret= 'miejsce na token'"
      ],
      "execution_count": null,
      "outputs": []
    },
    {
      "cell_type": "code",
      "metadata": {
        "id": "jOfUmr6KYAa4"
      },
      "source": [
        "auth = tw.OAuthHandler(consumer_key, consumer_secret)\n",
        "auth.set_access_token(access_token, access_token_secret)\n",
        "api = tw.API(auth, wait_on_rate_limit=True)"
      ],
      "execution_count": null,
      "outputs": []
    },
    {
      "cell_type": "code",
      "metadata": {
        "id": "0x1KkxbXYAa4"
      },
      "source": [
        "# Tworzenie ścieżki dostępu do folderu z danymi\n",
        "\n",
        "directory = os.path.join('data')\n",
        "if not os.path.exists(directory):\n",
        "    os.makedirs(directory)\n",
        "    \n",
        "output_filepath = os.path.join('data', 'tweets.csv')"
      ],
      "execution_count": null,
      "outputs": []
    },
    {
      "cell_type": "code",
      "metadata": {
        "id": "a-eZ5mqqYAa5"
      },
      "source": [
        "# Tworzenie filtrów \n",
        "\n",
        "search_words = \"#McDonald's -is:retweet -is:reply -is:quote\"\n",
        "date_since = 'wstaw datę'\n",
        "date_until = 'wstaw datę'"
      ],
      "execution_count": null,
      "outputs": []
    },
    {
      "cell_type": "code",
      "metadata": {
        "id": "jDoc9NdjYAa6"
      },
      "source": [
        "# Zapytanie do API\n",
        "\n",
        "tweets = tw.Cursor(api.search, q=search_words, lang='en', since=date_since, until=date_until, tweet_mode='extended').items(100000)"
      ],
      "execution_count": null,
      "outputs": []
    },
    {
      "cell_type": "code",
      "metadata": {
        "id": "rSj1UJUkYAa6"
      },
      "source": [
        "tweets_details = [[tweet.user.screen_name, tweet.created_at, tweet.user.location, tweet.full_text] for tweet in tweets]"
      ],
      "execution_count": null,
      "outputs": []
    },
    {
      "cell_type": "code",
      "metadata": {
        "id": "oe6fBZWTYAa7",
        "outputId": "34797f17-340a-41cc-873d-92bde8ed7c88"
      },
      "source": [
        "tweet_text = pd.DataFrame(data=tweets_details, columns=['user', 'date', 'location', 'text'])\n",
        "tweet_text.tail()"
      ],
      "execution_count": null,
      "outputs": [
        {
          "output_type": "execute_result",
          "data": {
            "text/html": [
              "<div>\n",
              "<style scoped>\n",
              "    .dataframe tbody tr th:only-of-type {\n",
              "        vertical-align: middle;\n",
              "    }\n",
              "\n",
              "    .dataframe tbody tr th {\n",
              "        vertical-align: top;\n",
              "    }\n",
              "\n",
              "    .dataframe thead th {\n",
              "        text-align: right;\n",
              "    }\n",
              "</style>\n",
              "<table border=\"1\" class=\"dataframe\">\n",
              "  <thead>\n",
              "    <tr style=\"text-align: right;\">\n",
              "      <th></th>\n",
              "      <th>user</th>\n",
              "      <th>date</th>\n",
              "      <th>location</th>\n",
              "      <th>text</th>\n",
              "    </tr>\n",
              "  </thead>\n",
              "  <tbody>\n",
              "    <tr>\n",
              "      <th>98176</th>\n",
              "      <td>MoonBae05</td>\n",
              "      <td>2021-05-11 08:16:17</td>\n",
              "      <td>DarkSideoftheMoon</td>\n",
              "      <td>White boy in McDonald’s with ‘waves’ I couldn’...</td>\n",
              "    </tr>\n",
              "    <tr>\n",
              "      <th>98177</th>\n",
              "      <td>ahabstanaccount</td>\n",
              "      <td>2021-05-11 08:16:11</td>\n",
              "      <td>UCSD</td>\n",
              "      <td>24 hour gas stations and mcdonald’s drive thru...</td>\n",
              "    </tr>\n",
              "    <tr>\n",
              "      <th>98178</th>\n",
              "      <td>NoodleSpoodle1</td>\n",
              "      <td>2021-05-11 08:15:31</td>\n",
              "      <td></td>\n",
              "      <td>RT @EssexPR: You can go in Costa &amp;amp; McDonal...</td>\n",
              "    </tr>\n",
              "    <tr>\n",
              "      <th>98179</th>\n",
              "      <td>BensonJeanloui1</td>\n",
              "      <td>2021-05-11 08:15:09</td>\n",
              "      <td></td>\n",
              "      <td>@jaspree10531591 @BitMartExchange @safemoon Yo...</td>\n",
              "    </tr>\n",
              "    <tr>\n",
              "      <th>98180</th>\n",
              "      <td>coffeemeowk</td>\n",
              "      <td>2021-05-11 08:14:50</td>\n",
              "      <td>⚠️not spoiler-free⚠️</td>\n",
              "      <td>RT @GoodPoliticGuy: They shouldn’t have to be ...</td>\n",
              "    </tr>\n",
              "  </tbody>\n",
              "</table>\n",
              "</div>"
            ],
            "text/plain": [
              "                  user                date              location  \\\n",
              "98176        MoonBae05 2021-05-11 08:16:17     DarkSideoftheMoon   \n",
              "98177  ahabstanaccount 2021-05-11 08:16:11                  UCSD   \n",
              "98178   NoodleSpoodle1 2021-05-11 08:15:31                         \n",
              "98179  BensonJeanloui1 2021-05-11 08:15:09                         \n",
              "98180      coffeemeowk 2021-05-11 08:14:50  ⚠️not spoiler-free⚠️   \n",
              "\n",
              "                                                    text  \n",
              "98176  White boy in McDonald’s with ‘waves’ I couldn’...  \n",
              "98177  24 hour gas stations and mcdonald’s drive thru...  \n",
              "98178  RT @EssexPR: You can go in Costa &amp; McDonal...  \n",
              "98179  @jaspree10531591 @BitMartExchange @safemoon Yo...  \n",
              "98180  RT @GoodPoliticGuy: They shouldn’t have to be ...  "
            ]
          },
          "metadata": {
            "tags": []
          },
          "execution_count": 8
        }
      ]
    },
    {
      "cell_type": "code",
      "metadata": {
        "id": "mk10G8jkYAa8"
      },
      "source": [
        "# Zapisywanie danych do pliku CSV\n",
        "\n",
        "tweet_text.to_csv(output_filepath, index=False)"
      ],
      "execution_count": null,
      "outputs": []
    },
    {
      "cell_type": "code",
      "metadata": {
        "id": "0Ci4nYJrYAa9"
      },
      "source": [
        "# Dodawanie danych do istniejącego pliku CSV\n",
        "\n",
        "tweet_text.to_csv(output_filepath, mode='a', index=False, header=False)"
      ],
      "execution_count": null,
      "outputs": []
    },
    {
      "cell_type": "markdown",
      "metadata": {
        "id": "nJrJIhmjbFC4"
      },
      "source": [
        "#### Projekt"
      ]
    },
    {
      "cell_type": "markdown",
      "metadata": {
        "id": "C3vAu158grsK"
      },
      "source": [
        "**Wczytywanie danych**"
      ]
    },
    {
      "cell_type": "code",
      "metadata": {
        "id": "Aeq-z_ErciCG"
      },
      "source": [
        "# Surowe tweety pobierane na początku maja 2021\n",
        "\n",
        "DATA_LINK = 'https://www.dropbox.com/s/3wi7g83iwrae2v4/tweets.csv?dl=1'\n",
        "RANDOM_SEED = 2020"
      ],
      "execution_count": null,
      "outputs": []
    },
    {
      "cell_type": "code",
      "metadata": {
        "id": "79PkSvQRYAa9"
      },
      "source": [
        "tweet_text_csv = pd.read_csv(DATA_LINK)"
      ],
      "execution_count": null,
      "outputs": []
    },
    {
      "cell_type": "code",
      "metadata": {
        "id": "g1g4-M3eYAa-"
      },
      "source": [
        "tweet_text_csv = tweet_text_csv.sort_values(by=['date'])\n",
        "tweet_text_csv = tweet_text_csv.reset_index(drop=True)"
      ],
      "execution_count": null,
      "outputs": []
    },
    {
      "cell_type": "code",
      "metadata": {
        "id": "4X_DprZ7YAa-",
        "colab": {
          "base_uri": "https://localhost:8080/",
          "height": 414
        },
        "outputId": "b9baca8b-a9f9-4bbb-8fcc-89d977d6f9dd"
      },
      "source": [
        "tweet_text_csv"
      ],
      "execution_count": null,
      "outputs": [
        {
          "output_type": "execute_result",
          "data": {
            "text/html": [
              "<div>\n",
              "<style scoped>\n",
              "    .dataframe tbody tr th:only-of-type {\n",
              "        vertical-align: middle;\n",
              "    }\n",
              "\n",
              "    .dataframe tbody tr th {\n",
              "        vertical-align: top;\n",
              "    }\n",
              "\n",
              "    .dataframe thead th {\n",
              "        text-align: right;\n",
              "    }\n",
              "</style>\n",
              "<table border=\"1\" class=\"dataframe\">\n",
              "  <thead>\n",
              "    <tr style=\"text-align: right;\">\n",
              "      <th></th>\n",
              "      <th>user</th>\n",
              "      <th>date</th>\n",
              "      <th>location</th>\n",
              "      <th>text</th>\n",
              "    </tr>\n",
              "  </thead>\n",
              "  <tbody>\n",
              "    <tr>\n",
              "      <th>0</th>\n",
              "      <td>wavsurfwav</td>\n",
              "      <td>2021-05-01 00:00:00</td>\n",
              "      <td>NaN</td>\n",
              "      <td>I aint really like WLR that much but I do resp...</td>\n",
              "    </tr>\n",
              "    <tr>\n",
              "      <th>1</th>\n",
              "      <td>arran0807</td>\n",
              "      <td>2021-05-01 00:00:05</td>\n",
              "      <td>London, England</td>\n",
              "      <td>@itadorkis UNO u got McDonald’s and say can I ...</td>\n",
              "    </tr>\n",
              "    <tr>\n",
              "      <th>2</th>\n",
              "      <td>Because_Im_Lipi</td>\n",
              "      <td>2021-05-01 00:00:05</td>\n",
              "      <td>B.A.C 05</td>\n",
              "      <td>RT @deadfckingass: mcdonald’s wtf the fuck is ...</td>\n",
              "    </tr>\n",
              "    <tr>\n",
              "      <th>3</th>\n",
              "      <td>a_damcx</td>\n",
              "      <td>2021-05-01 00:00:19</td>\n",
              "      <td>Long Beach, CA</td>\n",
              "      <td>RT @Mangosquash96: @deadfckingass Congratulati...</td>\n",
              "    </tr>\n",
              "    <tr>\n",
              "      <th>4</th>\n",
              "      <td>xanieys</td>\n",
              "      <td>2021-05-01 00:00:38</td>\n",
              "      <td>NaN</td>\n",
              "      <td>travis scott had grown men going mcdonald's sa...</td>\n",
              "    </tr>\n",
              "    <tr>\n",
              "      <th>...</th>\n",
              "      <td>...</td>\n",
              "      <td>...</td>\n",
              "      <td>...</td>\n",
              "      <td>...</td>\n",
              "    </tr>\n",
              "    <tr>\n",
              "      <th>259345</th>\n",
              "      <td>buckleyswartz</td>\n",
              "      <td>2021-05-17 05:53:34</td>\n",
              "      <td>USA</td>\n",
              "      <td>RT @FjdunnR: @rarway @RBReich Interesting that...</td>\n",
              "    </tr>\n",
              "    <tr>\n",
              "      <th>259346</th>\n",
              "      <td>KurisuGoji</td>\n",
              "      <td>2021-05-17 05:53:34</td>\n",
              "      <td>Seattle, WA</td>\n",
              "      <td>RT @myunclesmemes: McDonald's new special http...</td>\n",
              "    </tr>\n",
              "    <tr>\n",
              "      <th>259347</th>\n",
              "      <td>my__love__BTS</td>\n",
              "      <td>2021-05-17 05:53:42</td>\n",
              "      <td>그냥 귀엽게 태어난곤뎅</td>\n",
              "      <td>RT @saint: McDonald’s employees have begun rec...</td>\n",
              "    </tr>\n",
              "    <tr>\n",
              "      <th>259348</th>\n",
              "      <td>202natt</td>\n",
              "      <td>2021-05-17 05:53:46</td>\n",
              "      <td>Uptown, DC</td>\n",
              "      <td>@whoisjjcarr McDonald’s is better</td>\n",
              "    </tr>\n",
              "    <tr>\n",
              "      <th>259349</th>\n",
              "      <td>MariliaSavvides</td>\n",
              "      <td>2021-05-17 05:54:27</td>\n",
              "      <td>London</td>\n",
              "      <td>This photo was taken at a McDonald’s PlayPlace...</td>\n",
              "    </tr>\n",
              "  </tbody>\n",
              "</table>\n",
              "<p>259350 rows × 4 columns</p>\n",
              "</div>"
            ],
            "text/plain": [
              "                   user  ...                                               text\n",
              "0            wavsurfwav  ...  I aint really like WLR that much but I do resp...\n",
              "1             arran0807  ...  @itadorkis UNO u got McDonald’s and say can I ...\n",
              "2       Because_Im_Lipi  ...  RT @deadfckingass: mcdonald’s wtf the fuck is ...\n",
              "3               a_damcx  ...  RT @Mangosquash96: @deadfckingass Congratulati...\n",
              "4               xanieys  ...  travis scott had grown men going mcdonald's sa...\n",
              "...                 ...  ...                                                ...\n",
              "259345    buckleyswartz  ...  RT @FjdunnR: @rarway @RBReich Interesting that...\n",
              "259346       KurisuGoji  ...  RT @myunclesmemes: McDonald's new special http...\n",
              "259347    my__love__BTS  ...  RT @saint: McDonald’s employees have begun rec...\n",
              "259348          202natt  ...                  @whoisjjcarr McDonald’s is better\n",
              "259349  MariliaSavvides  ...  This photo was taken at a McDonald’s PlayPlace...\n",
              "\n",
              "[259350 rows x 4 columns]"
            ]
          },
          "metadata": {
            "tags": []
          },
          "execution_count": 6
        }
      ]
    },
    {
      "cell_type": "code",
      "metadata": {
        "colab": {
          "base_uri": "https://localhost:8080/"
        },
        "id": "IvgaIhtKYAa_",
        "outputId": "f8d519e9-ac6c-4900-f123-f95044a4d14f"
      },
      "source": [
        "# Sprawdzanie czy dany tweet jest retweetem\n",
        "\n",
        "tweet_text_csv[\"is_rt\"] = tweet_text_csv[\"text\"].apply(lambda x: \"RT @\" in x)\n",
        "tweet_text_csv[\"is_rt\"].value_counts()"
      ],
      "execution_count": null,
      "outputs": [
        {
          "output_type": "execute_result",
          "data": {
            "text/plain": [
              "True     209249\n",
              "False     50101\n",
              "Name: is_rt, dtype: int64"
            ]
          },
          "metadata": {
            "tags": []
          },
          "execution_count": 7
        }
      ]
    },
    {
      "cell_type": "code",
      "metadata": {
        "id": "Nb51ci89YAbA"
      },
      "source": [
        "# Funkcja do czyszczenia retweetów\n",
        "\n",
        "def removing_RTs(df):\n",
        "    \n",
        "    df = df.drop_duplicates(subset=['user', 'date', 'text'], ignore_index=True)\n",
        "    \n",
        "    del_pattern = 'RT @'\n",
        "    filtering_tweets = df['text'].str.contains(del_pattern)\n",
        "    df = df[~filtering_tweets]\n",
        "    df = df.reset_index(drop=True)\n",
        "    \n",
        "    return df"
      ],
      "execution_count": null,
      "outputs": []
    },
    {
      "cell_type": "code",
      "metadata": {
        "id": "pT34hInNYAbA"
      },
      "source": [
        "tweet_text_csv = removing_RTs(tweet_text_csv)"
      ],
      "execution_count": null,
      "outputs": []
    },
    {
      "cell_type": "code",
      "metadata": {
        "colab": {
          "base_uri": "https://localhost:8080/"
        },
        "id": "a2VWMkkBYAbA",
        "outputId": "cb33b6d8-cd29-4a2e-872c-43fa1dda0eea"
      },
      "source": [
        "tweet_text_csv.shape"
      ],
      "execution_count": null,
      "outputs": [
        {
          "output_type": "execute_result",
          "data": {
            "text/plain": [
              "(50101, 5)"
            ]
          },
          "metadata": {
            "tags": []
          },
          "execution_count": 10
        }
      ]
    },
    {
      "cell_type": "markdown",
      "metadata": {
        "id": "8Fj0ALXCgV1Y"
      },
      "source": [
        "**Czyszczenie danych**"
      ]
    },
    {
      "cell_type": "code",
      "metadata": {
        "colab": {
          "base_uri": "https://localhost:8080/"
        },
        "id": "SPcYFueSYAbB",
        "outputId": "7098477a-3f90-4938-fb5e-1c01b507ae1e"
      },
      "source": [
        "# Czyszczenie danych - głównie usunięcie oznaczeń użytkowników i linków\n",
        "\n",
        "def cleaning_data(df):\n",
        "    \n",
        "    df['text'] = df['text'].apply(lambda x : x.replace('@BTS_twt', 'BTS'))\n",
        "    df['text'] = df['text'].apply(lambda x : re.sub('@\\S+', '', x))\n",
        "    df['text'] = df['text'].apply(lambda x : re.sub('http\\S+', '', x))\n",
        "    df['text'] = df['text'].apply(lambda x : x.replace('\\n', ' ')) \n",
        "    df['text'] = df['text'].apply(lambda x : x.strip())\n",
        "    df = df.drop_duplicates(subset=['user', 'text'], ignore_index=True)\n",
        "    \n",
        "    return df"
      ],
      "execution_count": null,
      "outputs": [
        {
          "output_type": "stream",
          "text": [
            "<input>:6: DeprecationWarning: invalid escape sequence \\S\n",
            "<input>:6: DeprecationWarning: invalid escape sequence \\S\n",
            "<input>:7: DeprecationWarning: invalid escape sequence \\S\n",
            "<input>:6: DeprecationWarning: invalid escape sequence \\S\n",
            "<input>:7: DeprecationWarning: invalid escape sequence \\S\n",
            "<input>:6: DeprecationWarning: invalid escape sequence \\S\n",
            "<input>:7: DeprecationWarning: invalid escape sequence \\S\n",
            "<input>:6: DeprecationWarning: invalid escape sequence \\S\n",
            "<input>:7: DeprecationWarning: invalid escape sequence \\S\n",
            "<input>:6: DeprecationWarning: invalid escape sequence \\S\n",
            "<input>:7: DeprecationWarning: invalid escape sequence \\S\n",
            "<input>:6: DeprecationWarning: invalid escape sequence \\S\n",
            "<input>:7: DeprecationWarning: invalid escape sequence \\S\n",
            "<ipython-input-11-1cf07d787e51>:6: DeprecationWarning: invalid escape sequence \\S\n",
            "  df['text'] = df['text'].apply(lambda x : re.sub('@\\S+', '', x))\n",
            "<ipython-input-11-1cf07d787e51>:7: DeprecationWarning: invalid escape sequence \\S\n",
            "  df['text'] = df['text'].apply(lambda x : re.sub('http\\S+', '', x))\n"
          ],
          "name": "stderr"
        }
      ]
    },
    {
      "cell_type": "code",
      "metadata": {
        "colab": {
          "base_uri": "https://localhost:8080/",
          "height": 414
        },
        "id": "hUiX_aOEYAbB",
        "outputId": "94c7ca1f-f48c-48e5-887b-57d76a4a5b13"
      },
      "source": [
        "cleaning_data(tweet_text_csv)"
      ],
      "execution_count": null,
      "outputs": [
        {
          "output_type": "execute_result",
          "data": {
            "text/html": [
              "<div>\n",
              "<style scoped>\n",
              "    .dataframe tbody tr th:only-of-type {\n",
              "        vertical-align: middle;\n",
              "    }\n",
              "\n",
              "    .dataframe tbody tr th {\n",
              "        vertical-align: top;\n",
              "    }\n",
              "\n",
              "    .dataframe thead th {\n",
              "        text-align: right;\n",
              "    }\n",
              "</style>\n",
              "<table border=\"1\" class=\"dataframe\">\n",
              "  <thead>\n",
              "    <tr style=\"text-align: right;\">\n",
              "      <th></th>\n",
              "      <th>user</th>\n",
              "      <th>date</th>\n",
              "      <th>location</th>\n",
              "      <th>text</th>\n",
              "      <th>is_rt</th>\n",
              "    </tr>\n",
              "  </thead>\n",
              "  <tbody>\n",
              "    <tr>\n",
              "      <th>0</th>\n",
              "      <td>wavsurfwav</td>\n",
              "      <td>2021-05-01 00:00:00</td>\n",
              "      <td>NaN</td>\n",
              "      <td>I aint really like WLR that much but I do resp...</td>\n",
              "      <td>False</td>\n",
              "    </tr>\n",
              "    <tr>\n",
              "      <th>1</th>\n",
              "      <td>arran0807</td>\n",
              "      <td>2021-05-01 00:00:05</td>\n",
              "      <td>London, England</td>\n",
              "      <td>UNO u got McDonald’s and say can I have the un...</td>\n",
              "      <td>False</td>\n",
              "    </tr>\n",
              "    <tr>\n",
              "      <th>2</th>\n",
              "      <td>xanieys</td>\n",
              "      <td>2021-05-01 00:00:38</td>\n",
              "      <td>NaN</td>\n",
              "      <td>travis scott had grown men going mcdonald's sa...</td>\n",
              "      <td>False</td>\n",
              "    </tr>\n",
              "    <tr>\n",
              "      <th>3</th>\n",
              "      <td>fmgsupplychain</td>\n",
              "      <td>2021-05-01 00:00:43</td>\n",
              "      <td>Chicago, IL</td>\n",
              "      <td>Robust Digital Sales to Drive  (MCD) Q1 Earnings</td>\n",
              "      <td>False</td>\n",
              "    </tr>\n",
              "    <tr>\n",
              "      <th>4</th>\n",
              "      <td>DoubleDPod</td>\n",
              "      <td>2021-05-01 00:00:48</td>\n",
              "      <td>Your moms house</td>\n",
              "      <td>01:04:26 - Douglas McDonald Vs. The Double D E...</td>\n",
              "      <td>False</td>\n",
              "    </tr>\n",
              "    <tr>\n",
              "      <th>...</th>\n",
              "      <td>...</td>\n",
              "      <td>...</td>\n",
              "      <td>...</td>\n",
              "      <td>...</td>\n",
              "      <td>...</td>\n",
              "    </tr>\n",
              "    <tr>\n",
              "      <th>49253</th>\n",
              "      <td>doritegrocery</td>\n",
              "      <td>2021-05-17 05:52:24</td>\n",
              "      <td>Chicago, IL</td>\n",
              "      <td>McDonald's tryna be Lit!</td>\n",
              "      <td>False</td>\n",
              "    </tr>\n",
              "    <tr>\n",
              "      <th>49254</th>\n",
              "      <td>WonderG78</td>\n",
              "      <td>2021-05-17 05:52:45</td>\n",
              "      <td>Themyscira or Invisible plane</td>\n",
              "      <td>I understand I cut the cable cord when it beca...</td>\n",
              "      <td>False</td>\n",
              "    </tr>\n",
              "    <tr>\n",
              "      <th>49255</th>\n",
              "      <td>jessssyy__</td>\n",
              "      <td>2021-05-17 05:53:00</td>\n",
              "      <td>NaN</td>\n",
              "      <td>Just seen 2 fat rats at McDonald's in kams 😭😭😭...</td>\n",
              "      <td>False</td>\n",
              "    </tr>\n",
              "    <tr>\n",
              "      <th>49256</th>\n",
              "      <td>202natt</td>\n",
              "      <td>2021-05-17 05:53:46</td>\n",
              "      <td>Uptown, DC</td>\n",
              "      <td>McDonald’s is better</td>\n",
              "      <td>False</td>\n",
              "    </tr>\n",
              "    <tr>\n",
              "      <th>49257</th>\n",
              "      <td>MariliaSavvides</td>\n",
              "      <td>2021-05-17 05:54:27</td>\n",
              "      <td>London</td>\n",
              "      <td>This photo was taken at a McDonald’s PlayPlace...</td>\n",
              "      <td>False</td>\n",
              "    </tr>\n",
              "  </tbody>\n",
              "</table>\n",
              "<p>49258 rows × 5 columns</p>\n",
              "</div>"
            ],
            "text/plain": [
              "                  user  ...  is_rt\n",
              "0           wavsurfwav  ...  False\n",
              "1            arran0807  ...  False\n",
              "2              xanieys  ...  False\n",
              "3       fmgsupplychain  ...  False\n",
              "4           DoubleDPod  ...  False\n",
              "...                ...  ...    ...\n",
              "49253    doritegrocery  ...  False\n",
              "49254        WonderG78  ...  False\n",
              "49255       jessssyy__  ...  False\n",
              "49256          202natt  ...  False\n",
              "49257  MariliaSavvides  ...  False\n",
              "\n",
              "[49258 rows x 5 columns]"
            ]
          },
          "metadata": {
            "tags": []
          },
          "execution_count": 12
        }
      ]
    },
    {
      "cell_type": "markdown",
      "metadata": {
        "id": "hzIcJgptgJ1T"
      },
      "source": [
        "**Analiza sentymentów**"
      ]
    },
    {
      "cell_type": "code",
      "metadata": {
        "colab": {
          "base_uri": "https://localhost:8080/"
        },
        "id": "prBCuYl2YAbC",
        "outputId": "71effbac-38d8-4741-b34d-0a0405e980cd"
      },
      "source": [
        "nltk.download('vader_lexicon')\n",
        "from nltk.sentiment.vader import SentimentIntensityAnalyzer\n",
        "sid = SentimentIntensityAnalyzer()\n",
        "\n",
        "def sentiment_analysis(df):\n",
        "    \n",
        "    df_sa = df.copy()\n",
        "    df_sa['scores'] = df_sa['text'].apply(lambda df_sa: sid.polarity_scores(df_sa))\n",
        "    df_sa['neg'] = df_sa['text'].apply(lambda x:sid.polarity_scores(x)['neg'])\n",
        "    df_sa['neu'] = df_sa['text'].apply(lambda x:sid.polarity_scores(x)['neu'])\n",
        "    df_sa['pos'] = df_sa['text'].apply(lambda x:sid.polarity_scores(x)['pos'])\n",
        "    df_sa['compound']  = df_sa['text'].apply(lambda x:sid.polarity_scores(x)['compound'])\n",
        "    df_sa['comp_score'] = df_sa['compound'].apply(lambda c: 'pos' if c >=0 else 'neg')\n",
        "    \n",
        "    return df_sa"
      ],
      "execution_count": null,
      "outputs": [
        {
          "output_type": "stream",
          "text": [
            "[nltk_data] Downloading package vader_lexicon to /root/nltk_data...\n"
          ],
          "name": "stdout"
        },
        {
          "output_type": "stream",
          "text": [
            "/usr/local/lib/python3.7/dist-packages/nltk/twitter/__init__.py:20: UserWarning: The twython library has not been installed. Some functionality from the twitter package will not be available.\n",
            "  warnings.warn(\"The twython library has not been installed. \"\n"
          ],
          "name": "stderr"
        }
      ]
    },
    {
      "cell_type": "code",
      "metadata": {
        "id": "e2cqvaV7YAbC"
      },
      "source": [
        "tweet_sentiment_analysis = sentiment_analysis(tweet_text_csv)"
      ],
      "execution_count": null,
      "outputs": []
    },
    {
      "cell_type": "code",
      "metadata": {
        "colab": {
          "base_uri": "https://localhost:8080/",
          "height": 414
        },
        "id": "WpevE56dYAbC",
        "outputId": "4221ed7f-b903-4afa-bdbf-4901bc6f2dd1"
      },
      "source": [
        "tweet_sentiment_analysis[['date', 'text', 'pos', 'neu', 'neg', 'compound', 'comp_score']]"
      ],
      "execution_count": null,
      "outputs": [
        {
          "output_type": "execute_result",
          "data": {
            "text/html": [
              "<div>\n",
              "<style scoped>\n",
              "    .dataframe tbody tr th:only-of-type {\n",
              "        vertical-align: middle;\n",
              "    }\n",
              "\n",
              "    .dataframe tbody tr th {\n",
              "        vertical-align: top;\n",
              "    }\n",
              "\n",
              "    .dataframe thead th {\n",
              "        text-align: right;\n",
              "    }\n",
              "</style>\n",
              "<table border=\"1\" class=\"dataframe\">\n",
              "  <thead>\n",
              "    <tr style=\"text-align: right;\">\n",
              "      <th></th>\n",
              "      <th>date</th>\n",
              "      <th>text</th>\n",
              "      <th>pos</th>\n",
              "      <th>neu</th>\n",
              "      <th>neg</th>\n",
              "      <th>compound</th>\n",
              "      <th>comp_score</th>\n",
              "    </tr>\n",
              "  </thead>\n",
              "  <tbody>\n",
              "    <tr>\n",
              "      <th>0</th>\n",
              "      <td>2021-05-01 00:00:00</td>\n",
              "      <td>I aint really like WLR that much but I do resp...</td>\n",
              "      <td>0.125</td>\n",
              "      <td>0.630</td>\n",
              "      <td>0.245</td>\n",
              "      <td>-0.4613</td>\n",
              "      <td>neg</td>\n",
              "    </tr>\n",
              "    <tr>\n",
              "      <th>1</th>\n",
              "      <td>2021-05-01 00:00:05</td>\n",
              "      <td>UNO u got McDonald’s and say can I have the un...</td>\n",
              "      <td>0.000</td>\n",
              "      <td>1.000</td>\n",
              "      <td>0.000</td>\n",
              "      <td>0.0000</td>\n",
              "      <td>pos</td>\n",
              "    </tr>\n",
              "    <tr>\n",
              "      <th>2</th>\n",
              "      <td>2021-05-01 00:00:38</td>\n",
              "      <td>travis scott had grown men going mcdonald's sa...</td>\n",
              "      <td>0.114</td>\n",
              "      <td>0.886</td>\n",
              "      <td>0.000</td>\n",
              "      <td>0.1695</td>\n",
              "      <td>pos</td>\n",
              "    </tr>\n",
              "    <tr>\n",
              "      <th>3</th>\n",
              "      <td>2021-05-01 00:00:43</td>\n",
              "      <td>Robust Digital Sales to Drive  (MCD) Q1 Earnings</td>\n",
              "      <td>0.255</td>\n",
              "      <td>0.745</td>\n",
              "      <td>0.000</td>\n",
              "      <td>0.3400</td>\n",
              "      <td>pos</td>\n",
              "    </tr>\n",
              "    <tr>\n",
              "      <th>4</th>\n",
              "      <td>2021-05-01 00:00:48</td>\n",
              "      <td>01:04:26 - Douglas McDonald Vs. The Double D E...</td>\n",
              "      <td>0.118</td>\n",
              "      <td>0.659</td>\n",
              "      <td>0.223</td>\n",
              "      <td>-0.7488</td>\n",
              "      <td>neg</td>\n",
              "    </tr>\n",
              "    <tr>\n",
              "      <th>...</th>\n",
              "      <td>...</td>\n",
              "      <td>...</td>\n",
              "      <td>...</td>\n",
              "      <td>...</td>\n",
              "      <td>...</td>\n",
              "      <td>...</td>\n",
              "      <td>...</td>\n",
              "    </tr>\n",
              "    <tr>\n",
              "      <th>50096</th>\n",
              "      <td>2021-05-17 05:52:27</td>\n",
              "      <td>These 2 are both available on  for sale! Check...</td>\n",
              "      <td>0.000</td>\n",
              "      <td>0.721</td>\n",
              "      <td>0.279</td>\n",
              "      <td>-0.6996</td>\n",
              "      <td>neg</td>\n",
              "    </tr>\n",
              "    <tr>\n",
              "      <th>50097</th>\n",
              "      <td>2021-05-17 05:52:45</td>\n",
              "      <td>I understand I cut the cable cord when it beca...</td>\n",
              "      <td>0.214</td>\n",
              "      <td>0.710</td>\n",
              "      <td>0.076</td>\n",
              "      <td>0.8478</td>\n",
              "      <td>pos</td>\n",
              "    </tr>\n",
              "    <tr>\n",
              "      <th>50098</th>\n",
              "      <td>2021-05-17 05:53:00</td>\n",
              "      <td>Just seen 2 fat rats at McDonald's in kams 😭😭😭...</td>\n",
              "      <td>0.000</td>\n",
              "      <td>1.000</td>\n",
              "      <td>0.000</td>\n",
              "      <td>0.0000</td>\n",
              "      <td>pos</td>\n",
              "    </tr>\n",
              "    <tr>\n",
              "      <th>50099</th>\n",
              "      <td>2021-05-17 05:53:46</td>\n",
              "      <td>McDonald’s is better</td>\n",
              "      <td>0.592</td>\n",
              "      <td>0.408</td>\n",
              "      <td>0.000</td>\n",
              "      <td>0.4404</td>\n",
              "      <td>pos</td>\n",
              "    </tr>\n",
              "    <tr>\n",
              "      <th>50100</th>\n",
              "      <td>2021-05-17 05:54:27</td>\n",
              "      <td>This photo was taken at a McDonald’s PlayPlace...</td>\n",
              "      <td>0.153</td>\n",
              "      <td>0.847</td>\n",
              "      <td>0.000</td>\n",
              "      <td>0.4019</td>\n",
              "      <td>pos</td>\n",
              "    </tr>\n",
              "  </tbody>\n",
              "</table>\n",
              "<p>50101 rows × 7 columns</p>\n",
              "</div>"
            ],
            "text/plain": [
              "                      date  ... comp_score\n",
              "0      2021-05-01 00:00:00  ...        neg\n",
              "1      2021-05-01 00:00:05  ...        pos\n",
              "2      2021-05-01 00:00:38  ...        pos\n",
              "3      2021-05-01 00:00:43  ...        pos\n",
              "4      2021-05-01 00:00:48  ...        neg\n",
              "...                    ...  ...        ...\n",
              "50096  2021-05-17 05:52:27  ...        neg\n",
              "50097  2021-05-17 05:52:45  ...        pos\n",
              "50098  2021-05-17 05:53:00  ...        pos\n",
              "50099  2021-05-17 05:53:46  ...        pos\n",
              "50100  2021-05-17 05:54:27  ...        pos\n",
              "\n",
              "[50101 rows x 7 columns]"
            ]
          },
          "metadata": {
            "tags": []
          },
          "execution_count": 15
        }
      ]
    },
    {
      "cell_type": "code",
      "metadata": {
        "id": "9oYYzw_7YAbC"
      },
      "source": [
        "comp_score = tweet_sentiment_analysis.groupby(['comp_score'])['comp_score'].count()"
      ],
      "execution_count": null,
      "outputs": []
    },
    {
      "cell_type": "code",
      "metadata": {
        "colab": {
          "base_uri": "https://localhost:8080/",
          "height": 698
        },
        "id": "0uQx70sZYAbD",
        "outputId": "28430bb5-718d-4b3d-f314-d8d4b12d9546"
      },
      "source": [
        "plt.figure(figsize=(12,12))\n",
        "plt.title('Positive-Negative Sentiments Ratio')\n",
        "\n",
        "labels = 'Positive', 'Negative'\n",
        "sizes = [comp_score[1], comp_score[0]]\n",
        "colors = 'SkyBlue', 'IndianRed'\n",
        "\n",
        "plt.pie(sizes, labels=labels, colors=colors, autopct='%1.1f%%',\n",
        "        shadow=True, startangle=90)\n",
        "\n",
        "plt.show()"
      ],
      "execution_count": null,
      "outputs": [
        {
          "output_type": "display_data",
          "data": {
            "image/png": "[encoded data removed]",
            "text/plain": [
              "<Figure size 864x864 with 1 Axes>"
            ]
          },
          "metadata": {
            "tags": []
          }
        }
      ]
    },
    {
      "cell_type": "markdown",
      "metadata": {
        "id": "RvwG3PKUgOsV"
      },
      "source": [
        "**Wyodrębnienie negatywnych tweetów**"
      ]
    },
    {
      "cell_type": "code",
      "metadata": {
        "id": "5pkmxvSHYAbD"
      },
      "source": [
        "df_neg = tweet_sentiment_analysis.loc[tweet_sentiment_analysis['comp_score']=='neg']\n",
        "df_neg = df_neg.reset_index(drop=True)\n",
        "df_neg = df_neg[['user', 'date', 'location', 'text', 'comp_score']]"
      ],
      "execution_count": null,
      "outputs": []
    },
    {
      "cell_type": "code",
      "metadata": {
        "colab": {
          "base_uri": "https://localhost:8080/",
          "height": 414
        },
        "id": "_DPAYh4BYAbD",
        "outputId": "99cc46ed-4a62-4ced-a36c-2f3add384ada"
      },
      "source": [
        "df_neg"
      ],
      "execution_count": null,
      "outputs": [
        {
          "output_type": "execute_result",
          "data": {
            "text/html": [
              "<div>\n",
              "<style scoped>\n",
              "    .dataframe tbody tr th:only-of-type {\n",
              "        vertical-align: middle;\n",
              "    }\n",
              "\n",
              "    .dataframe tbody tr th {\n",
              "        vertical-align: top;\n",
              "    }\n",
              "\n",
              "    .dataframe thead th {\n",
              "        text-align: right;\n",
              "    }\n",
              "</style>\n",
              "<table border=\"1\" class=\"dataframe\">\n",
              "  <thead>\n",
              "    <tr style=\"text-align: right;\">\n",
              "      <th></th>\n",
              "      <th>user</th>\n",
              "      <th>date</th>\n",
              "      <th>location</th>\n",
              "      <th>text</th>\n",
              "      <th>comp_score</th>\n",
              "    </tr>\n",
              "  </thead>\n",
              "  <tbody>\n",
              "    <tr>\n",
              "      <th>0</th>\n",
              "      <td>wavsurfwav</td>\n",
              "      <td>2021-05-01 00:00:00</td>\n",
              "      <td>NaN</td>\n",
              "      <td>I aint really like WLR that much but I do resp...</td>\n",
              "      <td>neg</td>\n",
              "    </tr>\n",
              "    <tr>\n",
              "      <th>1</th>\n",
              "      <td>DoubleDPod</td>\n",
              "      <td>2021-05-01 00:00:48</td>\n",
              "      <td>Your moms house</td>\n",
              "      <td>01:04:26 - Douglas McDonald Vs. The Double D E...</td>\n",
              "      <td>neg</td>\n",
              "    </tr>\n",
              "    <tr>\n",
              "      <th>2</th>\n",
              "      <td>takeittobrandon</td>\n",
              "      <td>2021-05-01 00:00:56</td>\n",
              "      <td>Ohio, USA</td>\n",
              "      <td>The auto business has been dealing with severe...</td>\n",
              "      <td>neg</td>\n",
              "    </tr>\n",
              "    <tr>\n",
              "      <th>3</th>\n",
              "      <td>superlameballs</td>\n",
              "      <td>2021-05-01 00:01:01</td>\n",
              "      <td>NaN</td>\n",
              "      <td>that's definitely the truth, but their fries s...</td>\n",
              "      <td>neg</td>\n",
              "    </tr>\n",
              "    <tr>\n",
              "      <th>4</th>\n",
              "      <td>SPOTNEWSonIG</td>\n",
              "      <td>2021-05-01 00:01:29</td>\n",
              "      <td>Chicago IL</td>\n",
              "      <td>79/Phillips: they say a male customer is in th...</td>\n",
              "      <td>neg</td>\n",
              "    </tr>\n",
              "    <tr>\n",
              "      <th>...</th>\n",
              "      <td>...</td>\n",
              "      <td>...</td>\n",
              "      <td>...</td>\n",
              "      <td>...</td>\n",
              "      <td>...</td>\n",
              "    </tr>\n",
              "    <tr>\n",
              "      <th>13118</th>\n",
              "      <td>thefiances</td>\n",
              "      <td>2021-05-17 05:50:17</td>\n",
              "      <td>NaN</td>\n",
              "      <td>my brother gave me 3 mcdonald’s cookies and sa...</td>\n",
              "      <td>neg</td>\n",
              "    </tr>\n",
              "    <tr>\n",
              "      <th>13119</th>\n",
              "      <td>YourTime2Mend</td>\n",
              "      <td>2021-05-17 05:51:02</td>\n",
              "      <td>California</td>\n",
              "      <td>You know the vaccine fucked up if it got McDon...</td>\n",
              "      <td>neg</td>\n",
              "    </tr>\n",
              "    <tr>\n",
              "      <th>13120</th>\n",
              "      <td>JoyRoseM</td>\n",
              "      <td>2021-05-17 05:51:56</td>\n",
              "      <td>NaN</td>\n",
              "      <td>That * is doing some heavy lifting. Depending ...</td>\n",
              "      <td>neg</td>\n",
              "    </tr>\n",
              "    <tr>\n",
              "      <th>13121</th>\n",
              "      <td>WaveRecords4</td>\n",
              "      <td>2021-05-17 05:52:16</td>\n",
              "      <td>Los Angeles, CA</td>\n",
              "      <td>McDonald's Sorry for ‘No Blacks Allowed’ Chine...</td>\n",
              "      <td>neg</td>\n",
              "    </tr>\n",
              "    <tr>\n",
              "      <th>13122</th>\n",
              "      <td>Viraj_Ramteke</td>\n",
              "      <td>2021-05-17 05:52:27</td>\n",
              "      <td>NaN</td>\n",
              "      <td>These 2 are both available on  for sale! Check...</td>\n",
              "      <td>neg</td>\n",
              "    </tr>\n",
              "  </tbody>\n",
              "</table>\n",
              "<p>13123 rows × 5 columns</p>\n",
              "</div>"
            ],
            "text/plain": [
              "                  user  ... comp_score\n",
              "0           wavsurfwav  ...        neg\n",
              "1           DoubleDPod  ...        neg\n",
              "2      takeittobrandon  ...        neg\n",
              "3       superlameballs  ...        neg\n",
              "4         SPOTNEWSonIG  ...        neg\n",
              "...                ...  ...        ...\n",
              "13118       thefiances  ...        neg\n",
              "13119    YourTime2Mend  ...        neg\n",
              "13120         JoyRoseM  ...        neg\n",
              "13121     WaveRecords4  ...        neg\n",
              "13122    Viraj_Ramteke  ...        neg\n",
              "\n",
              "[13123 rows x 5 columns]"
            ]
          },
          "metadata": {
            "tags": []
          },
          "execution_count": 19
        }
      ]
    },
    {
      "cell_type": "markdown",
      "metadata": {
        "id": "GgEKJi5cg68m"
      },
      "source": [
        "**Przygotowywanie danych pod dalszą analizę**"
      ]
    },
    {
      "cell_type": "markdown",
      "metadata": {
        "id": "xWKLn_c_g_QE"
      },
      "source": [
        "\n",
        "\n",
        "1.   Zamiana znaków na małe litery\n",
        "2.   Usunięcie interpunkcji\n",
        "3.   Usunięcie słów zawierających liczby\n",
        "4.   Usunięcie stopwords\n",
        "5.   Tokenizacja\n",
        "6.   Usunięcie tokenów krótszych niż 3 litery\n",
        "7.   Usunięcie niechcianych słów\n",
        "8.   Lematyzacja\n",
        "\n"
      ]
    },
    {
      "cell_type": "code",
      "metadata": {
        "id": "W8m3BKMhfYWt"
      },
      "source": [
        "def preprocess_data(corpus, lemmatizer=WordNetLemmatizer(), stemmer=PorterStemmer()):\n",
        "\n",
        "    unwanted_tokens = ['shit', 'bitch', 'fuck', 'damn', 'suck', 'nigga']\n",
        "    \n",
        "    corpus_preprocessed = []\n",
        "    for i in tqdm(range(len(corpus))):\n",
        "        document = corpus[i]\n",
        "        document_preprocessed = []\n",
        "\n",
        "        document_cleaned = document.lower()\n",
        "        document_cleaned = re.sub(r'[^a-zA-Z0-9]', ' ', document_cleaned)\n",
        "        document_cleaned = re.sub(r'\\w*\\d\\w*', '', document_cleaned)\n",
        "\n",
        "        for token in word_tokenize(document_cleaned):\n",
        "            if token not in stopwords.words('english') and len(token) > 3:\n",
        "                \n",
        "                if token in unwanted_tokens:\n",
        "                    continue\n",
        "                    \n",
        "                token = lemmatizer.lemmatize(token)\n",
        "                document_preprocessed.append(token)\n",
        "        corpus_preprocessed.append(document_preprocessed)\n",
        "\n",
        "    return corpus_preprocessed"
      ],
      "execution_count": null,
      "outputs": []
    },
    {
      "cell_type": "code",
      "metadata": {
        "colab": {
          "base_uri": "https://localhost:8080/"
        },
        "id": "dprJ5hshhh4b",
        "outputId": "64cd7d2e-5cb6-468e-85de-8a34bd4a2def"
      },
      "source": [
        "corpus_preprocessed = preprocess_data(df_neg['text'].values)"
      ],
      "execution_count": null,
      "outputs": [
        {
          "output_type": "stream",
          "text": [
            "100%|██████████| 13123/13123 [00:41<00:00, 319.01it/s]\n"
          ],
          "name": "stderr"
        }
      ]
    },
    {
      "cell_type": "code",
      "metadata": {
        "colab": {
          "base_uri": "https://localhost:8080/"
        },
        "id": "RPAl_MVJh_B5",
        "outputId": "6b08b95a-1ad1-4b37-b8a0-7d21d95eeb8e"
      },
      "source": [
        "def return_tokens(token_list):\n",
        "    return token_list\n",
        "\n",
        "bow = CountVectorizer(\n",
        "    analyzer='word', \n",
        "    min_df=15, \n",
        "    max_df=0.75, \n",
        "    max_features=30000,\n",
        "    lowercase=False,\n",
        "    tokenizer=return_tokens\n",
        ")\n",
        "\n",
        "bow.fit(corpus_preprocessed)"
      ],
      "execution_count": null,
      "outputs": [
        {
          "output_type": "stream",
          "text": [
            "/usr/local/lib/python3.7/dist-packages/sklearn/feature_extraction/text.py:507: UserWarning: The parameter 'token_pattern' will not be used since 'tokenizer' is not None'\n",
            "  warnings.warn(\"The parameter 'token_pattern' will not be used\"\n"
          ],
          "name": "stderr"
        },
        {
          "output_type": "execute_result",
          "data": {
            "text/plain": [
              "CountVectorizer(analyzer='word', binary=False, decode_error='strict',\n",
              "                dtype=<class 'numpy.int64'>, encoding='utf-8', input='content',\n",
              "                lowercase=False, max_df=0.75, max_features=30000, min_df=15,\n",
              "                ngram_range=(1, 1), preprocessor=None, stop_words=None,\n",
              "                strip_accents=None, token_pattern='(?u)\\\\b\\\\w\\\\w+\\\\b',\n",
              "                tokenizer=<function return_tokens at 0x7fcabfff0e60>,\n",
              "                vocabulary=None)"
            ]
          },
          "metadata": {
            "tags": []
          },
          "execution_count": 22
        }
      ]
    },
    {
      "cell_type": "code",
      "metadata": {
        "id": "Vsit9vBdixeW"
      },
      "source": [
        "corpus_vectorized = bow.fit_transform(corpus_preprocessed)"
      ],
      "execution_count": null,
      "outputs": []
    },
    {
      "cell_type": "markdown",
      "metadata": {
        "id": "u9c9wYKGi4ke"
      },
      "source": [
        "**Latent Dirichlet Allocation (LDA)**"
      ]
    },
    {
      "cell_type": "code",
      "metadata": {
        "colab": {
          "base_uri": "https://localhost:8080/",
          "height": 744
        },
        "id": "HhL_rfF0i1j2",
        "outputId": "550b8746-b738-479f-b296-3089cf4a66e3"
      },
      "source": [
        "search_param_space = {\n",
        "    \"n_components\": [8, 10, 15, 20], \n",
        "    \"learning_decay\": [0.3, 0.5, 0.7],\n",
        "    \"random_state\": [RANDOM_SEED]\n",
        "}\n",
        "\n",
        "grid_search = GridSearchCV(\n",
        "    LatentDirichletAllocation(), \n",
        "    param_grid=search_param_space, \n",
        "    verbose=1,\n",
        "    n_jobs=-1,\n",
        "    cv=3\n",
        ")\n",
        "grid_search.fit(corpus_vectorized)\n",
        "\n",
        "scores = grid_search.cv_results_[\"mean_test_score\"]\n",
        "scores = np.array(scores).reshape(\n",
        "    len(search_param_space[\"n_components\"]), len(search_param_space[\"learning_decay\"])\n",
        ")\n",
        "\n",
        "fig, ax = plt.subplots(1,1)\n",
        "fig.set_size_inches(16, 6)\n",
        "\n",
        "for idx, n in enumerate(search_param_space[\"n_components\"]):\n",
        "    ax.plot(search_param_space[\"learning_decay\"], scores[idx,:], \"-o\", \n",
        "            label=\"Number of Topics {}\".format(n))\n",
        "    ax.set_title(\"Grid Search Scores\")\n",
        "    ax.set_xlabel(\"Learning Rate Decay\")\n",
        "    ax.set_ylabel(\"Log-Likelihood Loss\")\n",
        "    ax.set_xticks(search_param_space[\"learning_decay\"])\n",
        "    ax.legend()\n",
        "    ax.grid()"
      ],
      "execution_count": null,
      "outputs": [
        {
          "output_type": "stream",
          "text": [
            "Fitting 3 folds for each of 12 candidates, totalling 36 fits\n"
          ],
          "name": "stdout"
        },
        {
          "output_type": "stream",
          "text": [
            "/usr/local/lib/python3.7/dist-packages/sklearn/model_selection/_split.py:440: DeprecationWarning: `np.int` is a deprecated alias for the builtin `int`. To silence this warning, use `int` by itself. Doing this will not modify any behavior and is safe. When replacing `np.int`, you may wish to use e.g. `np.int64` or `np.int32` to specify the precision. If you wish to review your current use, check the release note link for additional information.\n",
            "Deprecated in NumPy 1.20; for more details and guidance: https://numpy.org/devdocs/release/1.20.0-notes.html#deprecations\n",
            "  fold_sizes = np.full(n_splits, n_samples // n_splits, dtype=np.int)\n",
            "/usr/local/lib/python3.7/dist-packages/sklearn/model_selection/_split.py:93: DeprecationWarning: `np.bool` is a deprecated alias for the builtin `bool`. To silence this warning, use `bool` by itself. Doing this will not modify any behavior and is safe. If you specifically wanted the numpy scalar type, use `np.bool_` here.\n",
            "Deprecated in NumPy 1.20; for more details and guidance: https://numpy.org/devdocs/release/1.20.0-notes.html#deprecations\n",
            "  test_mask = np.zeros(_num_samples(X), dtype=np.bool)\n",
            "/usr/local/lib/python3.7/dist-packages/sklearn/model_selection/_split.py:93: DeprecationWarning: `np.bool` is a deprecated alias for the builtin `bool`. To silence this warning, use `bool` by itself. Doing this will not modify any behavior and is safe. If you specifically wanted the numpy scalar type, use `np.bool_` here.\n",
            "Deprecated in NumPy 1.20; for more details and guidance: https://numpy.org/devdocs/release/1.20.0-notes.html#deprecations\n",
            "  test_mask = np.zeros(_num_samples(X), dtype=np.bool)\n",
            "/usr/local/lib/python3.7/dist-packages/sklearn/model_selection/_split.py:93: DeprecationWarning: `np.bool` is a deprecated alias for the builtin `bool`. To silence this warning, use `bool` by itself. Doing this will not modify any behavior and is safe. If you specifically wanted the numpy scalar type, use `np.bool_` here.\n",
            "Deprecated in NumPy 1.20; for more details and guidance: https://numpy.org/devdocs/release/1.20.0-notes.html#deprecations\n",
            "  test_mask = np.zeros(_num_samples(X), dtype=np.bool)\n",
            "[Parallel(n_jobs=-1)]: Using backend LokyBackend with 2 concurrent workers.\n",
            "[Parallel(n_jobs=-1)]: Done  36 out of  36 | elapsed:  6.7min finished\n",
            "/usr/local/lib/python3.7/dist-packages/sklearn/model_selection/_search.py:818: DeprecationWarning: `np.int` is a deprecated alias for the builtin `int`. To silence this warning, use `int` by itself. Doing this will not modify any behavior and is safe. When replacing `np.int`, you may wish to use e.g. `np.int64` or `np.int32` to specify the precision. If you wish to review your current use, check the release note link for additional information.\n",
            "Deprecated in NumPy 1.20; for more details and guidance: https://numpy.org/devdocs/release/1.20.0-notes.html#deprecations\n",
            "  dtype=np.int)\n"
          ],
          "name": "stderr"
        },
        {
          "output_type": "display_data",
          "data": {
            "image/png": "[encoded data removed]",
            "text/plain": [
              "<Figure size 1152x432 with 1 Axes>"
            ]
          },
          "metadata": {
            "tags": [],
            "needs_background": "light"
          }
        }
      ]
    },
    {
      "cell_type": "code",
      "metadata": {
        "id": "JWXr6HLmi6oM"
      },
      "source": [
        "model = grid_search.best_estimator_\n",
        "corpus_lda = model.transform(corpus_vectorized)"
      ],
      "execution_count": null,
      "outputs": []
    },
    {
      "cell_type": "code",
      "metadata": {
        "id": "XhT7lyGXjGJp"
      },
      "source": [
        "def color_green(value):\n",
        "    if isinstance(value, int):\n",
        "        color = 'black'\n",
        "    else:\n",
        "        color = 'green' if value > 0.1 else 'black'\n",
        "    return 'color: {col}'.format(col=color)\n",
        "\n",
        "def make_bold(value):\n",
        "    if isinstance(value, int):\n",
        "        weight = 400\n",
        "    else:\n",
        "        weight = 700 if value > 0.1 else 400\n",
        "    return 'font-weight: {weight}'.format(weight=weight)"
      ],
      "execution_count": null,
      "outputs": []
    },
    {
      "cell_type": "code",
      "metadata": {
        "colab": {
          "base_uri": "https://localhost:8080/",
          "height": 433
        },
        "id": "hwoNp1O4jRto",
        "outputId": "9d330fc8-778e-4aff-e29b-e8713ae0f1c0"
      },
      "source": [
        "df_dominant_topic = pd.DataFrame(\n",
        "    np.round(corpus_lda, 3),\n",
        "    columns = ['Topic {}'.format(i) for i in range(model.n_components)],\n",
        "    index = ['Tweet {}'.format(i) for i in range(len(corpus_lda))]\n",
        ")\n",
        "df_dominant_topic['Dominant Topic'] = np.argmax(df_dominant_topic.values, axis=1)\n",
        "df_dominant_topic.head(20).style.applymap(color_green).applymap(make_bold)"
      ],
      "execution_count": null,
      "outputs": [
        {
          "output_type": "execute_result",
          "data": {
            "text/html": [
              "<style  type=\"text/css\" >\n",
              "#T_20613_row0_col0,#T_20613_row0_col1,#T_20613_row0_col3,#T_20613_row0_col6,#T_20613_row0_col7,#T_20613_row0_col8,#T_20613_row1_col0,#T_20613_row1_col1,#T_20613_row1_col5,#T_20613_row1_col7,#T_20613_row1_col8,#T_20613_row2_col0,#T_20613_row2_col1,#T_20613_row2_col2,#T_20613_row2_col3,#T_20613_row2_col6,#T_20613_row2_col8,#T_20613_row3_col0,#T_20613_row3_col1,#T_20613_row3_col2,#T_20613_row3_col3,#T_20613_row3_col4,#T_20613_row3_col7,#T_20613_row3_col8,#T_20613_row4_col0,#T_20613_row4_col1,#T_20613_row4_col2,#T_20613_row4_col3,#T_20613_row4_col4,#T_20613_row4_col5,#T_20613_row4_col7,#T_20613_row4_col8,#T_20613_row5_col1,#T_20613_row5_col2,#T_20613_row5_col3,#T_20613_row5_col4,#T_20613_row5_col5,#T_20613_row5_col6,#T_20613_row5_col7,#T_20613_row5_col8,#T_20613_row6_col0,#T_20613_row6_col1,#T_20613_row6_col2,#T_20613_row6_col5,#T_20613_row6_col7,#T_20613_row6_col8,#T_20613_row7_col0,#T_20613_row7_col1,#T_20613_row7_col2,#T_20613_row7_col3,#T_20613_row7_col4,#T_20613_row7_col5,#T_20613_row7_col7,#T_20613_row7_col8,#T_20613_row8_col0,#T_20613_row8_col1,#T_20613_row8_col3,#T_20613_row8_col5,#T_20613_row8_col7,#T_20613_row8_col8,#T_20613_row9_col0,#T_20613_row9_col2,#T_20613_row9_col3,#T_20613_row9_col4,#T_20613_row9_col5,#T_20613_row9_col6,#T_20613_row9_col7,#T_20613_row9_col8,#T_20613_row10_col0,#T_20613_row10_col1,#T_20613_row10_col2,#T_20613_row10_col3,#T_20613_row10_col4,#T_20613_row10_col7,#T_20613_row10_col8,#T_20613_row11_col0,#T_20613_row11_col1,#T_20613_row11_col2,#T_20613_row11_col3,#T_20613_row11_col5,#T_20613_row11_col6,#T_20613_row11_col7,#T_20613_row11_col8,#T_20613_row12_col1,#T_20613_row12_col2,#T_20613_row12_col3,#T_20613_row12_col4,#T_20613_row12_col5,#T_20613_row12_col6,#T_20613_row12_col7,#T_20613_row12_col8,#T_20613_row13_col3,#T_20613_row13_col4,#T_20613_row13_col5,#T_20613_row13_col6,#T_20613_row13_col7,#T_20613_row13_col8,#T_20613_row14_col1,#T_20613_row14_col2,#T_20613_row14_col4,#T_20613_row14_col5,#T_20613_row14_col6,#T_20613_row14_col7,#T_20613_row14_col8,#T_20613_row15_col1,#T_20613_row15_col2,#T_20613_row15_col3,#T_20613_row15_col4,#T_20613_row15_col5,#T_20613_row15_col6,#T_20613_row15_col7,#T_20613_row15_col8,#T_20613_row16_col0,#T_20613_row16_col1,#T_20613_row16_col2,#T_20613_row16_col4,#T_20613_row16_col5,#T_20613_row16_col6,#T_20613_row16_col7,#T_20613_row16_col8,#T_20613_row17_col0,#T_20613_row17_col1,#T_20613_row17_col2,#T_20613_row17_col4,#T_20613_row17_col5,#T_20613_row17_col6,#T_20613_row17_col7,#T_20613_row17_col8,#T_20613_row18_col0,#T_20613_row18_col1,#T_20613_row18_col2,#T_20613_row18_col3,#T_20613_row18_col5,#T_20613_row18_col6,#T_20613_row18_col8,#T_20613_row19_col0,#T_20613_row19_col3,#T_20613_row19_col4,#T_20613_row19_col6,#T_20613_row19_col8{\n",
              "            color:  black;\n",
              "            font-weight:  400;\n",
              "        }#T_20613_row0_col2,#T_20613_row0_col4,#T_20613_row0_col5,#T_20613_row1_col2,#T_20613_row1_col3,#T_20613_row1_col4,#T_20613_row1_col6,#T_20613_row2_col4,#T_20613_row2_col5,#T_20613_row2_col7,#T_20613_row3_col5,#T_20613_row3_col6,#T_20613_row4_col6,#T_20613_row5_col0,#T_20613_row6_col3,#T_20613_row6_col4,#T_20613_row6_col6,#T_20613_row7_col6,#T_20613_row8_col2,#T_20613_row8_col4,#T_20613_row8_col6,#T_20613_row9_col1,#T_20613_row10_col5,#T_20613_row10_col6,#T_20613_row11_col4,#T_20613_row12_col0,#T_20613_row13_col0,#T_20613_row13_col1,#T_20613_row13_col2,#T_20613_row14_col0,#T_20613_row14_col3,#T_20613_row15_col0,#T_20613_row16_col3,#T_20613_row17_col3,#T_20613_row18_col4,#T_20613_row18_col7,#T_20613_row19_col1,#T_20613_row19_col2,#T_20613_row19_col5,#T_20613_row19_col7{\n",
              "            color:  green;\n",
              "            font-weight:  700;\n",
              "        }</style><table id=\"T_20613_\" ><thead>    <tr>        <th class=\"blank level0\" ></th>        <th class=\"col_heading level0 col0\" >Topic 0</th>        <th class=\"col_heading level0 col1\" >Topic 1</th>        <th class=\"col_heading level0 col2\" >Topic 2</th>        <th class=\"col_heading level0 col3\" >Topic 3</th>        <th class=\"col_heading level0 col4\" >Topic 4</th>        <th class=\"col_heading level0 col5\" >Topic 5</th>        <th class=\"col_heading level0 col6\" >Topic 6</th>        <th class=\"col_heading level0 col7\" >Topic 7</th>        <th class=\"col_heading level0 col8\" >Dominant Topic</th>    </tr></thead><tbody>\n",
              "                <tr>\n",
              "                        <th id=\"T_20613_level0_row0\" class=\"row_heading level0 row0\" >Tweet 0</th>\n",
              "                        <td id=\"T_20613_row0_col0\" class=\"data row0 col0\" >0.013000</td>\n",
              "                        <td id=\"T_20613_row0_col1\" class=\"data row0 col1\" >0.013000</td>\n",
              "                        <td id=\"T_20613_row0_col2\" class=\"data row0 col2\" >0.309000</td>\n",
              "                        <td id=\"T_20613_row0_col3\" class=\"data row0 col3\" >0.013000</td>\n",
              "                        <td id=\"T_20613_row0_col4\" class=\"data row0 col4\" >0.203000</td>\n",
              "                        <td id=\"T_20613_row0_col5\" class=\"data row0 col5\" >0.426000</td>\n",
              "                        <td id=\"T_20613_row0_col6\" class=\"data row0 col6\" >0.013000</td>\n",
              "                        <td id=\"T_20613_row0_col7\" class=\"data row0 col7\" >0.013000</td>\n",
              "                        <td id=\"T_20613_row0_col8\" class=\"data row0 col8\" >5</td>\n",
              "            </tr>\n",
              "            <tr>\n",
              "                        <th id=\"T_20613_level0_row1\" class=\"row_heading level0 row1\" >Tweet 1</th>\n",
              "                        <td id=\"T_20613_row1_col0\" class=\"data row1 col0\" >0.007000</td>\n",
              "                        <td id=\"T_20613_row1_col1\" class=\"data row1 col1\" >0.007000</td>\n",
              "                        <td id=\"T_20613_row1_col2\" class=\"data row1 col2\" >0.251000</td>\n",
              "                        <td id=\"T_20613_row1_col3\" class=\"data row1 col3\" >0.119000</td>\n",
              "                        <td id=\"T_20613_row1_col4\" class=\"data row1 col4\" >0.233000</td>\n",
              "                        <td id=\"T_20613_row1_col5\" class=\"data row1 col5\" >0.007000</td>\n",
              "                        <td id=\"T_20613_row1_col6\" class=\"data row1 col6\" >0.367000</td>\n",
              "                        <td id=\"T_20613_row1_col7\" class=\"data row1 col7\" >0.007000</td>\n",
              "                        <td id=\"T_20613_row1_col8\" class=\"data row1 col8\" >6</td>\n",
              "            </tr>\n",
              "            <tr>\n",
              "                        <th id=\"T_20613_level0_row2\" class=\"row_heading level0 row2\" >Tweet 2</th>\n",
              "                        <td id=\"T_20613_row2_col0\" class=\"data row2 col0\" >0.007000</td>\n",
              "                        <td id=\"T_20613_row2_col1\" class=\"data row2 col1\" >0.007000</td>\n",
              "                        <td id=\"T_20613_row2_col2\" class=\"data row2 col2\" >0.007000</td>\n",
              "                        <td id=\"T_20613_row2_col3\" class=\"data row2 col3\" >0.007000</td>\n",
              "                        <td id=\"T_20613_row2_col4\" class=\"data row2 col4\" >0.694000</td>\n",
              "                        <td id=\"T_20613_row2_col5\" class=\"data row2 col5\" >0.162000</td>\n",
              "                        <td id=\"T_20613_row2_col6\" class=\"data row2 col6\" >0.007000</td>\n",
              "                        <td id=\"T_20613_row2_col7\" class=\"data row2 col7\" >0.108000</td>\n",
              "                        <td id=\"T_20613_row2_col8\" class=\"data row2 col8\" >4</td>\n",
              "            </tr>\n",
              "            <tr>\n",
              "                        <th id=\"T_20613_level0_row3\" class=\"row_heading level0 row3\" >Tweet 3</th>\n",
              "                        <td id=\"T_20613_row3_col0\" class=\"data row3 col0\" >0.011000</td>\n",
              "                        <td id=\"T_20613_row3_col1\" class=\"data row3 col1\" >0.011000</td>\n",
              "                        <td id=\"T_20613_row3_col2\" class=\"data row3 col2\" >0.011000</td>\n",
              "                        <td id=\"T_20613_row3_col3\" class=\"data row3 col3\" >0.011000</td>\n",
              "                        <td id=\"T_20613_row3_col4\" class=\"data row3 col4\" >0.011000</td>\n",
              "                        <td id=\"T_20613_row3_col5\" class=\"data row3 col5\" >0.609000</td>\n",
              "                        <td id=\"T_20613_row3_col6\" class=\"data row3 col6\" >0.322000</td>\n",
              "                        <td id=\"T_20613_row3_col7\" class=\"data row3 col7\" >0.011000</td>\n",
              "                        <td id=\"T_20613_row3_col8\" class=\"data row3 col8\" >5</td>\n",
              "            </tr>\n",
              "            <tr>\n",
              "                        <th id=\"T_20613_level0_row4\" class=\"row_heading level0 row4\" >Tweet 4</th>\n",
              "                        <td id=\"T_20613_row4_col0\" class=\"data row4 col0\" >0.042000</td>\n",
              "                        <td id=\"T_20613_row4_col1\" class=\"data row4 col1\" >0.042000</td>\n",
              "                        <td id=\"T_20613_row4_col2\" class=\"data row4 col2\" >0.042000</td>\n",
              "                        <td id=\"T_20613_row4_col3\" class=\"data row4 col3\" >0.042000</td>\n",
              "                        <td id=\"T_20613_row4_col4\" class=\"data row4 col4\" >0.042000</td>\n",
              "                        <td id=\"T_20613_row4_col5\" class=\"data row4 col5\" >0.042000</td>\n",
              "                        <td id=\"T_20613_row4_col6\" class=\"data row4 col6\" >0.708000</td>\n",
              "                        <td id=\"T_20613_row4_col7\" class=\"data row4 col7\" >0.042000</td>\n",
              "                        <td id=\"T_20613_row4_col8\" class=\"data row4 col8\" >6</td>\n",
              "            </tr>\n",
              "            <tr>\n",
              "                        <th id=\"T_20613_level0_row5\" class=\"row_heading level0 row5\" >Tweet 5</th>\n",
              "                        <td id=\"T_20613_row5_col0\" class=\"data row5 col0\" >0.781000</td>\n",
              "                        <td id=\"T_20613_row5_col1\" class=\"data row5 col1\" >0.031000</td>\n",
              "                        <td id=\"T_20613_row5_col2\" class=\"data row5 col2\" >0.031000</td>\n",
              "                        <td id=\"T_20613_row5_col3\" class=\"data row5 col3\" >0.031000</td>\n",
              "                        <td id=\"T_20613_row5_col4\" class=\"data row5 col4\" >0.031000</td>\n",
              "                        <td id=\"T_20613_row5_col5\" class=\"data row5 col5\" >0.031000</td>\n",
              "                        <td id=\"T_20613_row5_col6\" class=\"data row5 col6\" >0.031000</td>\n",
              "                        <td id=\"T_20613_row5_col7\" class=\"data row5 col7\" >0.031000</td>\n",
              "                        <td id=\"T_20613_row5_col8\" class=\"data row5 col8\" >0</td>\n",
              "            </tr>\n",
              "            <tr>\n",
              "                        <th id=\"T_20613_level0_row6\" class=\"row_heading level0 row6\" >Tweet 6</th>\n",
              "                        <td id=\"T_20613_row6_col0\" class=\"data row6 col0\" >0.009000</td>\n",
              "                        <td id=\"T_20613_row6_col1\" class=\"data row6 col1\" >0.009000</td>\n",
              "                        <td id=\"T_20613_row6_col2\" class=\"data row6 col2\" >0.009000</td>\n",
              "                        <td id=\"T_20613_row6_col3\" class=\"data row6 col3\" >0.157000</td>\n",
              "                        <td id=\"T_20613_row6_col4\" class=\"data row6 col4\" >0.293000</td>\n",
              "                        <td id=\"T_20613_row6_col5\" class=\"data row6 col5\" >0.009000</td>\n",
              "                        <td id=\"T_20613_row6_col6\" class=\"data row6 col6\" >0.505000</td>\n",
              "                        <td id=\"T_20613_row6_col7\" class=\"data row6 col7\" >0.009000</td>\n",
              "                        <td id=\"T_20613_row6_col8\" class=\"data row6 col8\" >6</td>\n",
              "            </tr>\n",
              "            <tr>\n",
              "                        <th id=\"T_20613_level0_row7\" class=\"row_heading level0 row7\" >Tweet 7</th>\n",
              "                        <td id=\"T_20613_row7_col0\" class=\"data row7 col0\" >0.042000</td>\n",
              "                        <td id=\"T_20613_row7_col1\" class=\"data row7 col1\" >0.042000</td>\n",
              "                        <td id=\"T_20613_row7_col2\" class=\"data row7 col2\" >0.042000</td>\n",
              "                        <td id=\"T_20613_row7_col3\" class=\"data row7 col3\" >0.042000</td>\n",
              "                        <td id=\"T_20613_row7_col4\" class=\"data row7 col4\" >0.042000</td>\n",
              "                        <td id=\"T_20613_row7_col5\" class=\"data row7 col5\" >0.042000</td>\n",
              "                        <td id=\"T_20613_row7_col6\" class=\"data row7 col6\" >0.708000</td>\n",
              "                        <td id=\"T_20613_row7_col7\" class=\"data row7 col7\" >0.042000</td>\n",
              "                        <td id=\"T_20613_row7_col8\" class=\"data row7 col8\" >6</td>\n",
              "            </tr>\n",
              "            <tr>\n",
              "                        <th id=\"T_20613_level0_row8\" class=\"row_heading level0 row8\" >Tweet 8</th>\n",
              "                        <td id=\"T_20613_row8_col0\" class=\"data row8 col0\" >0.016000</td>\n",
              "                        <td id=\"T_20613_row8_col1\" class=\"data row8 col1\" >0.016000</td>\n",
              "                        <td id=\"T_20613_row8_col2\" class=\"data row8 col2\" >0.175000</td>\n",
              "                        <td id=\"T_20613_row8_col3\" class=\"data row8 col3\" >0.016000</td>\n",
              "                        <td id=\"T_20613_row8_col4\" class=\"data row8 col4\" >0.524000</td>\n",
              "                        <td id=\"T_20613_row8_col5\" class=\"data row8 col5\" >0.016000</td>\n",
              "                        <td id=\"T_20613_row8_col6\" class=\"data row8 col6\" >0.223000</td>\n",
              "                        <td id=\"T_20613_row8_col7\" class=\"data row8 col7\" >0.016000</td>\n",
              "                        <td id=\"T_20613_row8_col8\" class=\"data row8 col8\" >4</td>\n",
              "            </tr>\n",
              "            <tr>\n",
              "                        <th id=\"T_20613_level0_row9\" class=\"row_heading level0 row9\" >Tweet 9</th>\n",
              "                        <td id=\"T_20613_row9_col0\" class=\"data row9 col0\" >0.018000</td>\n",
              "                        <td id=\"T_20613_row9_col1\" class=\"data row9 col1\" >0.875000</td>\n",
              "                        <td id=\"T_20613_row9_col2\" class=\"data row9 col2\" >0.018000</td>\n",
              "                        <td id=\"T_20613_row9_col3\" class=\"data row9 col3\" >0.018000</td>\n",
              "                        <td id=\"T_20613_row9_col4\" class=\"data row9 col4\" >0.018000</td>\n",
              "                        <td id=\"T_20613_row9_col5\" class=\"data row9 col5\" >0.018000</td>\n",
              "                        <td id=\"T_20613_row9_col6\" class=\"data row9 col6\" >0.018000</td>\n",
              "                        <td id=\"T_20613_row9_col7\" class=\"data row9 col7\" >0.018000</td>\n",
              "                        <td id=\"T_20613_row9_col8\" class=\"data row9 col8\" >1</td>\n",
              "            </tr>\n",
              "            <tr>\n",
              "                        <th id=\"T_20613_level0_row10\" class=\"row_heading level0 row10\" >Tweet 10</th>\n",
              "                        <td id=\"T_20613_row10_col0\" class=\"data row10 col0\" >0.031000</td>\n",
              "                        <td id=\"T_20613_row10_col1\" class=\"data row10 col1\" >0.031000</td>\n",
              "                        <td id=\"T_20613_row10_col2\" class=\"data row10 col2\" >0.031000</td>\n",
              "                        <td id=\"T_20613_row10_col3\" class=\"data row10 col3\" >0.031000</td>\n",
              "                        <td id=\"T_20613_row10_col4\" class=\"data row10 col4\" >0.031000</td>\n",
              "                        <td id=\"T_20613_row10_col5\" class=\"data row10 col5\" >0.378000</td>\n",
              "                        <td id=\"T_20613_row10_col6\" class=\"data row10 col6\" >0.435000</td>\n",
              "                        <td id=\"T_20613_row10_col7\" class=\"data row10 col7\" >0.031000</td>\n",
              "                        <td id=\"T_20613_row10_col8\" class=\"data row10 col8\" >6</td>\n",
              "            </tr>\n",
              "            <tr>\n",
              "                        <th id=\"T_20613_level0_row11\" class=\"row_heading level0 row11\" >Tweet 11</th>\n",
              "                        <td id=\"T_20613_row11_col0\" class=\"data row11 col0\" >0.025000</td>\n",
              "                        <td id=\"T_20613_row11_col1\" class=\"data row11 col1\" >0.025000</td>\n",
              "                        <td id=\"T_20613_row11_col2\" class=\"data row11 col2\" >0.025000</td>\n",
              "                        <td id=\"T_20613_row11_col3\" class=\"data row11 col3\" >0.025000</td>\n",
              "                        <td id=\"T_20613_row11_col4\" class=\"data row11 col4\" >0.825000</td>\n",
              "                        <td id=\"T_20613_row11_col5\" class=\"data row11 col5\" >0.025000</td>\n",
              "                        <td id=\"T_20613_row11_col6\" class=\"data row11 col6\" >0.025000</td>\n",
              "                        <td id=\"T_20613_row11_col7\" class=\"data row11 col7\" >0.025000</td>\n",
              "                        <td id=\"T_20613_row11_col8\" class=\"data row11 col8\" >4</td>\n",
              "            </tr>\n",
              "            <tr>\n",
              "                        <th id=\"T_20613_level0_row12\" class=\"row_heading level0 row12\" >Tweet 12</th>\n",
              "                        <td id=\"T_20613_row12_col0\" class=\"data row12 col0\" >0.708000</td>\n",
              "                        <td id=\"T_20613_row12_col1\" class=\"data row12 col1\" >0.042000</td>\n",
              "                        <td id=\"T_20613_row12_col2\" class=\"data row12 col2\" >0.042000</td>\n",
              "                        <td id=\"T_20613_row12_col3\" class=\"data row12 col3\" >0.042000</td>\n",
              "                        <td id=\"T_20613_row12_col4\" class=\"data row12 col4\" >0.042000</td>\n",
              "                        <td id=\"T_20613_row12_col5\" class=\"data row12 col5\" >0.042000</td>\n",
              "                        <td id=\"T_20613_row12_col6\" class=\"data row12 col6\" >0.042000</td>\n",
              "                        <td id=\"T_20613_row12_col7\" class=\"data row12 col7\" >0.042000</td>\n",
              "                        <td id=\"T_20613_row12_col8\" class=\"data row12 col8\" >0</td>\n",
              "            </tr>\n",
              "            <tr>\n",
              "                        <th id=\"T_20613_level0_row13\" class=\"row_heading level0 row13\" >Tweet 13</th>\n",
              "                        <td id=\"T_20613_row13_col0\" class=\"data row13 col0\" >0.535000</td>\n",
              "                        <td id=\"T_20613_row13_col1\" class=\"data row13 col1\" >0.131000</td>\n",
              "                        <td id=\"T_20613_row13_col2\" class=\"data row13 col2\" >0.286000</td>\n",
              "                        <td id=\"T_20613_row13_col3\" class=\"data row13 col3\" >0.010000</td>\n",
              "                        <td id=\"T_20613_row13_col4\" class=\"data row13 col4\" >0.010000</td>\n",
              "                        <td id=\"T_20613_row13_col5\" class=\"data row13 col5\" >0.010000</td>\n",
              "                        <td id=\"T_20613_row13_col6\" class=\"data row13 col6\" >0.010000</td>\n",
              "                        <td id=\"T_20613_row13_col7\" class=\"data row13 col7\" >0.010000</td>\n",
              "                        <td id=\"T_20613_row13_col8\" class=\"data row13 col8\" >0</td>\n",
              "            </tr>\n",
              "            <tr>\n",
              "                        <th id=\"T_20613_level0_row14\" class=\"row_heading level0 row14\" >Tweet 14</th>\n",
              "                        <td id=\"T_20613_row14_col0\" class=\"data row14 col0\" >0.467000</td>\n",
              "                        <td id=\"T_20613_row14_col1\" class=\"data row14 col1\" >0.031000</td>\n",
              "                        <td id=\"T_20613_row14_col2\" class=\"data row14 col2\" >0.031000</td>\n",
              "                        <td id=\"T_20613_row14_col3\" class=\"data row14 col3\" >0.346000</td>\n",
              "                        <td id=\"T_20613_row14_col4\" class=\"data row14 col4\" >0.031000</td>\n",
              "                        <td id=\"T_20613_row14_col5\" class=\"data row14 col5\" >0.031000</td>\n",
              "                        <td id=\"T_20613_row14_col6\" class=\"data row14 col6\" >0.031000</td>\n",
              "                        <td id=\"T_20613_row14_col7\" class=\"data row14 col7\" >0.031000</td>\n",
              "                        <td id=\"T_20613_row14_col8\" class=\"data row14 col8\" >0</td>\n",
              "            </tr>\n",
              "            <tr>\n",
              "                        <th id=\"T_20613_level0_row15\" class=\"row_heading level0 row15\" >Tweet 15</th>\n",
              "                        <td id=\"T_20613_row15_col0\" class=\"data row15 col0\" >0.920000</td>\n",
              "                        <td id=\"T_20613_row15_col1\" class=\"data row15 col1\" >0.011000</td>\n",
              "                        <td id=\"T_20613_row15_col2\" class=\"data row15 col2\" >0.011000</td>\n",
              "                        <td id=\"T_20613_row15_col3\" class=\"data row15 col3\" >0.011000</td>\n",
              "                        <td id=\"T_20613_row15_col4\" class=\"data row15 col4\" >0.011000</td>\n",
              "                        <td id=\"T_20613_row15_col5\" class=\"data row15 col5\" >0.011000</td>\n",
              "                        <td id=\"T_20613_row15_col6\" class=\"data row15 col6\" >0.011000</td>\n",
              "                        <td id=\"T_20613_row15_col7\" class=\"data row15 col7\" >0.011000</td>\n",
              "                        <td id=\"T_20613_row15_col8\" class=\"data row15 col8\" >0</td>\n",
              "            </tr>\n",
              "            <tr>\n",
              "                        <th id=\"T_20613_level0_row16\" class=\"row_heading level0 row16\" >Tweet 16</th>\n",
              "                        <td id=\"T_20613_row16_col0\" class=\"data row16 col0\" >0.042000</td>\n",
              "                        <td id=\"T_20613_row16_col1\" class=\"data row16 col1\" >0.042000</td>\n",
              "                        <td id=\"T_20613_row16_col2\" class=\"data row16 col2\" >0.042000</td>\n",
              "                        <td id=\"T_20613_row16_col3\" class=\"data row16 col3\" >0.708000</td>\n",
              "                        <td id=\"T_20613_row16_col4\" class=\"data row16 col4\" >0.042000</td>\n",
              "                        <td id=\"T_20613_row16_col5\" class=\"data row16 col5\" >0.042000</td>\n",
              "                        <td id=\"T_20613_row16_col6\" class=\"data row16 col6\" >0.042000</td>\n",
              "                        <td id=\"T_20613_row16_col7\" class=\"data row16 col7\" >0.042000</td>\n",
              "                        <td id=\"T_20613_row16_col8\" class=\"data row16 col8\" >3</td>\n",
              "            </tr>\n",
              "            <tr>\n",
              "                        <th id=\"T_20613_level0_row17\" class=\"row_heading level0 row17\" >Tweet 17</th>\n",
              "                        <td id=\"T_20613_row17_col0\" class=\"data row17 col0\" >0.018000</td>\n",
              "                        <td id=\"T_20613_row17_col1\" class=\"data row17 col1\" >0.018000</td>\n",
              "                        <td id=\"T_20613_row17_col2\" class=\"data row17 col2\" >0.018000</td>\n",
              "                        <td id=\"T_20613_row17_col3\" class=\"data row17 col3\" >0.875000</td>\n",
              "                        <td id=\"T_20613_row17_col4\" class=\"data row17 col4\" >0.018000</td>\n",
              "                        <td id=\"T_20613_row17_col5\" class=\"data row17 col5\" >0.018000</td>\n",
              "                        <td id=\"T_20613_row17_col6\" class=\"data row17 col6\" >0.018000</td>\n",
              "                        <td id=\"T_20613_row17_col7\" class=\"data row17 col7\" >0.018000</td>\n",
              "                        <td id=\"T_20613_row17_col8\" class=\"data row17 col8\" >3</td>\n",
              "            </tr>\n",
              "            <tr>\n",
              "                        <th id=\"T_20613_level0_row18\" class=\"row_heading level0 row18\" >Tweet 18</th>\n",
              "                        <td id=\"T_20613_row18_col0\" class=\"data row18 col0\" >0.013000</td>\n",
              "                        <td id=\"T_20613_row18_col1\" class=\"data row18 col1\" >0.013000</td>\n",
              "                        <td id=\"T_20613_row18_col2\" class=\"data row18 col2\" >0.013000</td>\n",
              "                        <td id=\"T_20613_row18_col3\" class=\"data row18 col3\" >0.013000</td>\n",
              "                        <td id=\"T_20613_row18_col4\" class=\"data row18 col4\" >0.156000</td>\n",
              "                        <td id=\"T_20613_row18_col5\" class=\"data row18 col5\" >0.013000</td>\n",
              "                        <td id=\"T_20613_row18_col6\" class=\"data row18 col6\" >0.013000</td>\n",
              "                        <td id=\"T_20613_row18_col7\" class=\"data row18 col7\" >0.769000</td>\n",
              "                        <td id=\"T_20613_row18_col8\" class=\"data row18 col8\" >7</td>\n",
              "            </tr>\n",
              "            <tr>\n",
              "                        <th id=\"T_20613_level0_row19\" class=\"row_heading level0 row19\" >Tweet 19</th>\n",
              "                        <td id=\"T_20613_row19_col0\" class=\"data row19 col0\" >0.018000</td>\n",
              "                        <td id=\"T_20613_row19_col1\" class=\"data row19 col1\" >0.268000</td>\n",
              "                        <td id=\"T_20613_row19_col2\" class=\"data row19 col2\" >0.186000</td>\n",
              "                        <td id=\"T_20613_row19_col3\" class=\"data row19 col3\" >0.018000</td>\n",
              "                        <td id=\"T_20613_row19_col4\" class=\"data row19 col4\" >0.018000</td>\n",
              "                        <td id=\"T_20613_row19_col5\" class=\"data row19 col5\" >0.205000</td>\n",
              "                        <td id=\"T_20613_row19_col6\" class=\"data row19 col6\" >0.018000</td>\n",
              "                        <td id=\"T_20613_row19_col7\" class=\"data row19 col7\" >0.269000</td>\n",
              "                        <td id=\"T_20613_row19_col8\" class=\"data row19 col8\" >7</td>\n",
              "            </tr>\n",
              "    </tbody></table>"
            ],
            "text/plain": [
              "<pandas.io.formats.style.Styler at 0x7fcab8af7110>"
            ]
          },
          "metadata": {
            "tags": []
          },
          "execution_count": 27
        }
      ]
    },
    {
      "cell_type": "code",
      "metadata": {
        "colab": {
          "base_uri": "https://localhost:8080/",
          "height": 324
        },
        "id": "8J-GtMUUjT_q",
        "outputId": "72de3f73-061c-42c5-8f49-2b0e1cfb46ac"
      },
      "source": [
        "# Liczba tweetów przydzielonych do konkretnego tematu\n",
        "\n",
        "df_topic_distribution = df_dominant_topic[\"Dominant Topic\"].value_counts().to_frame()\n",
        "df_topic_distribution.index.name = \"Topic Id\"\n",
        "df_topic_distribution.columns = [\"Tweet Num\"]\n",
        "df_topic_distribution.sort_values(by=\"Topic Id\", inplace=True)\n",
        "\n",
        "df_topic_distribution"
      ],
      "execution_count": null,
      "outputs": [
        {
          "output_type": "execute_result",
          "data": {
            "text/html": [
              "<div>\n",
              "<style scoped>\n",
              "    .dataframe tbody tr th:only-of-type {\n",
              "        vertical-align: middle;\n",
              "    }\n",
              "\n",
              "    .dataframe tbody tr th {\n",
              "        vertical-align: top;\n",
              "    }\n",
              "\n",
              "    .dataframe thead th {\n",
              "        text-align: right;\n",
              "    }\n",
              "</style>\n",
              "<table border=\"1\" class=\"dataframe\">\n",
              "  <thead>\n",
              "    <tr style=\"text-align: right;\">\n",
              "      <th></th>\n",
              "      <th>Tweet Num</th>\n",
              "    </tr>\n",
              "    <tr>\n",
              "      <th>Topic Id</th>\n",
              "      <th></th>\n",
              "    </tr>\n",
              "  </thead>\n",
              "  <tbody>\n",
              "    <tr>\n",
              "      <th>0</th>\n",
              "      <td>1973</td>\n",
              "    </tr>\n",
              "    <tr>\n",
              "      <th>1</th>\n",
              "      <td>1281</td>\n",
              "    </tr>\n",
              "    <tr>\n",
              "      <th>2</th>\n",
              "      <td>1292</td>\n",
              "    </tr>\n",
              "    <tr>\n",
              "      <th>3</th>\n",
              "      <td>1877</td>\n",
              "    </tr>\n",
              "    <tr>\n",
              "      <th>4</th>\n",
              "      <td>1674</td>\n",
              "    </tr>\n",
              "    <tr>\n",
              "      <th>5</th>\n",
              "      <td>1775</td>\n",
              "    </tr>\n",
              "    <tr>\n",
              "      <th>6</th>\n",
              "      <td>1962</td>\n",
              "    </tr>\n",
              "    <tr>\n",
              "      <th>7</th>\n",
              "      <td>1289</td>\n",
              "    </tr>\n",
              "  </tbody>\n",
              "</table>\n",
              "</div>"
            ],
            "text/plain": [
              "          Tweet Num\n",
              "Topic Id           \n",
              "0              1973\n",
              "1              1281\n",
              "2              1292\n",
              "3              1877\n",
              "4              1674\n",
              "5              1775\n",
              "6              1962\n",
              "7              1289"
            ]
          },
          "metadata": {
            "tags": []
          },
          "execution_count": 28
        }
      ]
    },
    {
      "cell_type": "code",
      "metadata": {
        "colab": {
          "base_uri": "https://localhost:8080/",
          "height": 294
        },
        "id": "rAQoqQDzjZ4n",
        "outputId": "7876cf42-d8b0-4217-a79e-4694f54af193"
      },
      "source": [
        "cols = 10\n",
        "\n",
        "df_topic_word_importance = pd.DataFrame(model.components_)\n",
        "df_topic_word_importance.columns = bow.get_feature_names()\n",
        "df_topic_word_importance.index = [\"Topic {}\".format(i) for i in range(model.n_components)]\n",
        "df_topic_word_importance[df_topic_word_importance.columns[-cols:]].head(model.n_components)"
      ],
      "execution_count": null,
      "outputs": [
        {
          "output_type": "execute_result",
          "data": {
            "text/html": [
              "<div>\n",
              "<style scoped>\n",
              "    .dataframe tbody tr th:only-of-type {\n",
              "        vertical-align: middle;\n",
              "    }\n",
              "\n",
              "    .dataframe tbody tr th {\n",
              "        vertical-align: top;\n",
              "    }\n",
              "\n",
              "    .dataframe thead th {\n",
              "        text-align: right;\n",
              "    }\n",
              "</style>\n",
              "<table border=\"1\" class=\"dataframe\">\n",
              "  <thead>\n",
              "    <tr style=\"text-align: right;\">\n",
              "      <th></th>\n",
              "      <th>wrap</th>\n",
              "      <th>write</th>\n",
              "      <th>wrong</th>\n",
              "      <th>yall</th>\n",
              "      <th>yeah</th>\n",
              "      <th>year</th>\n",
              "      <th>yesterday</th>\n",
              "      <th>young</th>\n",
              "      <th>youtube</th>\n",
              "      <th>zero</th>\n",
              "    </tr>\n",
              "  </thead>\n",
              "  <tbody>\n",
              "    <tr>\n",
              "      <th>Topic 0</th>\n",
              "      <td>0.125063</td>\n",
              "      <td>0.125149</td>\n",
              "      <td>4.292429</td>\n",
              "      <td>6.250319</td>\n",
              "      <td>10.849977</td>\n",
              "      <td>84.828157</td>\n",
              "      <td>7.814973</td>\n",
              "      <td>7.067504</td>\n",
              "      <td>0.125020</td>\n",
              "      <td>0.125040</td>\n",
              "    </tr>\n",
              "    <tr>\n",
              "      <th>Topic 1</th>\n",
              "      <td>0.125151</td>\n",
              "      <td>0.125046</td>\n",
              "      <td>156.530052</td>\n",
              "      <td>0.125023</td>\n",
              "      <td>2.437000</td>\n",
              "      <td>0.146494</td>\n",
              "      <td>25.687609</td>\n",
              "      <td>0.125099</td>\n",
              "      <td>0.125005</td>\n",
              "      <td>0.125159</td>\n",
              "    </tr>\n",
              "    <tr>\n",
              "      <th>Topic 2</th>\n",
              "      <td>0.125005</td>\n",
              "      <td>11.714201</td>\n",
              "      <td>2.342352</td>\n",
              "      <td>0.125025</td>\n",
              "      <td>73.034081</td>\n",
              "      <td>13.815776</td>\n",
              "      <td>5.098812</td>\n",
              "      <td>0.125183</td>\n",
              "      <td>17.053486</td>\n",
              "      <td>5.302569</td>\n",
              "    </tr>\n",
              "    <tr>\n",
              "      <th>Topic 3</th>\n",
              "      <td>0.125249</td>\n",
              "      <td>3.340171</td>\n",
              "      <td>1.447211</td>\n",
              "      <td>19.087187</td>\n",
              "      <td>0.125131</td>\n",
              "      <td>12.769857</td>\n",
              "      <td>5.598225</td>\n",
              "      <td>7.485127</td>\n",
              "      <td>0.125117</td>\n",
              "      <td>16.897069</td>\n",
              "    </tr>\n",
              "    <tr>\n",
              "      <th>Topic 4</th>\n",
              "      <td>0.125020</td>\n",
              "      <td>0.125346</td>\n",
              "      <td>15.058655</td>\n",
              "      <td>0.125086</td>\n",
              "      <td>1.948456</td>\n",
              "      <td>75.478212</td>\n",
              "      <td>0.125114</td>\n",
              "      <td>5.907420</td>\n",
              "      <td>0.125167</td>\n",
              "      <td>0.125248</td>\n",
              "    </tr>\n",
              "    <tr>\n",
              "      <th>Topic 5</th>\n",
              "      <td>0.125051</td>\n",
              "      <td>0.319925</td>\n",
              "      <td>32.930274</td>\n",
              "      <td>0.125087</td>\n",
              "      <td>0.165095</td>\n",
              "      <td>71.924433</td>\n",
              "      <td>5.425029</td>\n",
              "      <td>0.125133</td>\n",
              "      <td>0.125034</td>\n",
              "      <td>0.125166</td>\n",
              "    </tr>\n",
              "    <tr>\n",
              "      <th>Topic 6</th>\n",
              "      <td>0.125015</td>\n",
              "      <td>0.125106</td>\n",
              "      <td>13.273937</td>\n",
              "      <td>0.125116</td>\n",
              "      <td>0.125118</td>\n",
              "      <td>185.911936</td>\n",
              "      <td>0.125093</td>\n",
              "      <td>17.039506</td>\n",
              "      <td>0.125055</td>\n",
              "      <td>0.125227</td>\n",
              "    </tr>\n",
              "    <tr>\n",
              "      <th>Topic 7</th>\n",
              "      <td>38.124446</td>\n",
              "      <td>0.125055</td>\n",
              "      <td>0.125090</td>\n",
              "      <td>7.037157</td>\n",
              "      <td>22.315141</td>\n",
              "      <td>0.125135</td>\n",
              "      <td>0.125144</td>\n",
              "      <td>0.125027</td>\n",
              "      <td>2.196116</td>\n",
              "      <td>6.174523</td>\n",
              "    </tr>\n",
              "  </tbody>\n",
              "</table>\n",
              "</div>"
            ],
            "text/plain": [
              "              wrap      write       wrong  ...      young    youtube       zero\n",
              "Topic 0   0.125063   0.125149    4.292429  ...   7.067504   0.125020   0.125040\n",
              "Topic 1   0.125151   0.125046  156.530052  ...   0.125099   0.125005   0.125159\n",
              "Topic 2   0.125005  11.714201    2.342352  ...   0.125183  17.053486   5.302569\n",
              "Topic 3   0.125249   3.340171    1.447211  ...   7.485127   0.125117  16.897069\n",
              "Topic 4   0.125020   0.125346   15.058655  ...   5.907420   0.125167   0.125248\n",
              "Topic 5   0.125051   0.319925   32.930274  ...   0.125133   0.125034   0.125166\n",
              "Topic 6   0.125015   0.125106   13.273937  ...  17.039506   0.125055   0.125227\n",
              "Topic 7  38.124446   0.125055    0.125090  ...   0.125027   2.196116   6.174523\n",
              "\n",
              "[8 rows x 10 columns]"
            ]
          },
          "metadata": {
            "tags": []
          },
          "execution_count": 29
        }
      ]
    },
    {
      "cell_type": "code",
      "metadata": {
        "colab": {
          "base_uri": "https://localhost:8080/",
          "height": 294
        },
        "id": "X6Oqb8WljUe6",
        "outputId": "4ad1e653-56ab-4a7b-ac45-6cb11bf452f6"
      },
      "source": [
        "# 8 najważniejszych tematów przewodnich wygenerowanych na podstawie tweetów\n",
        "\n",
        "top_keywords_num = 6\n",
        "\n",
        "top_keywords_indices = np.argsort(df_topic_word_importance.values)[:, -top_keywords_num:][:, ::-1]\n",
        "\n",
        "df_top_keywords = pd.DataFrame(\n",
        "    np.array(bow.get_feature_names())[top_keywords_indices],\n",
        "    columns = [\"Word {}\".format(i) for i in range(top_keywords_num)],\n",
        "    index = [\"Topic {}\".format(i) for i in range(model.n_components)]\n",
        ")\n",
        "\n",
        "df_top_keywords"
      ],
      "execution_count": null,
      "outputs": [
        {
          "output_type": "execute_result",
          "data": {
            "text/html": [
              "<div>\n",
              "<style scoped>\n",
              "    .dataframe tbody tr th:only-of-type {\n",
              "        vertical-align: middle;\n",
              "    }\n",
              "\n",
              "    .dataframe tbody tr th {\n",
              "        vertical-align: top;\n",
              "    }\n",
              "\n",
              "    .dataframe thead th {\n",
              "        text-align: right;\n",
              "    }\n",
              "</style>\n",
              "<table border=\"1\" class=\"dataframe\">\n",
              "  <thead>\n",
              "    <tr style=\"text-align: right;\">\n",
              "      <th></th>\n",
              "      <th>Word 0</th>\n",
              "      <th>Word 1</th>\n",
              "      <th>Word 2</th>\n",
              "      <th>Word 3</th>\n",
              "      <th>Word 4</th>\n",
              "      <th>Word 5</th>\n",
              "    </tr>\n",
              "  </thead>\n",
              "  <tbody>\n",
              "    <tr>\n",
              "      <th>Topic 0</th>\n",
              "      <td>drive</td>\n",
              "      <td>time</td>\n",
              "      <td>like</td>\n",
              "      <td>thru</td>\n",
              "      <td>girl</td>\n",
              "      <td>parking</td>\n",
              "    </tr>\n",
              "    <tr>\n",
              "      <th>Topic 1</th>\n",
              "      <td>order</td>\n",
              "      <td>fire</td>\n",
              "      <td>cry</td>\n",
              "      <td>meal</td>\n",
              "      <td>said</td>\n",
              "      <td>check</td>\n",
              "    </tr>\n",
              "    <tr>\n",
              "      <th>Topic 2</th>\n",
              "      <td>machine</td>\n",
              "      <td>cream</td>\n",
              "      <td>always</td>\n",
              "      <td>broken</td>\n",
              "      <td>know</td>\n",
              "      <td>broke</td>\n",
              "    </tr>\n",
              "    <tr>\n",
              "      <th>Topic 3</th>\n",
              "      <td>food</td>\n",
              "      <td>breakfast</td>\n",
              "      <td>sprite</td>\n",
              "      <td>coffee</td>\n",
              "      <td>fucking</td>\n",
              "      <td>good</td>\n",
              "    </tr>\n",
              "    <tr>\n",
              "      <th>Topic 4</th>\n",
              "      <td>people</td>\n",
              "      <td>wage</td>\n",
              "      <td>worker</td>\n",
              "      <td>hour</td>\n",
              "      <td>employee</td>\n",
              "      <td>minimum</td>\n",
              "    </tr>\n",
              "    <tr>\n",
              "      <th>Topic 5</th>\n",
              "      <td>burger</td>\n",
              "      <td>think</td>\n",
              "      <td>fry</td>\n",
              "      <td>going</td>\n",
              "      <td>time</td>\n",
              "      <td>king</td>\n",
              "    </tr>\n",
              "    <tr>\n",
              "      <th>Topic 6</th>\n",
              "      <td>work</td>\n",
              "      <td>hate</td>\n",
              "      <td>people</td>\n",
              "      <td>year</td>\n",
              "      <td>stop</td>\n",
              "      <td>would</td>\n",
              "    </tr>\n",
              "    <tr>\n",
              "      <th>Topic 7</th>\n",
              "      <td>chicken</td>\n",
              "      <td>sandwich</td>\n",
              "      <td>boycott</td>\n",
              "      <td>photo</td>\n",
              "      <td>would</td>\n",
              "      <td>like</td>\n",
              "    </tr>\n",
              "  </tbody>\n",
              "</table>\n",
              "</div>"
            ],
            "text/plain": [
              "          Word 0     Word 1   Word 2  Word 3    Word 4   Word 5\n",
              "Topic 0    drive       time     like    thru      girl  parking\n",
              "Topic 1    order       fire      cry    meal      said    check\n",
              "Topic 2  machine      cream   always  broken      know    broke\n",
              "Topic 3     food  breakfast   sprite  coffee   fucking     good\n",
              "Topic 4   people       wage   worker    hour  employee  minimum\n",
              "Topic 5   burger      think      fry   going      time     king\n",
              "Topic 6     work       hate   people    year      stop    would\n",
              "Topic 7  chicken   sandwich  boycott   photo     would     like"
            ]
          },
          "metadata": {
            "tags": []
          },
          "execution_count": 30
        }
      ]
    },
    {
      "cell_type": "markdown",
      "metadata": {
        "id": "VxzeWvGVPpK-"
      },
      "source": [
        "Na podstawie słów kluczowych przydzielonych do każdego z tematów, wskazać można główne obszary niezadowolenia klientów oraz/i pracowników firmy McDonald's:\n",
        "\n",
        "*  Temat 0: Drive-thru\n",
        "*  Temat 2: Popsuta maszyna do lodów\n",
        "*  Temat 3: Usunięcie całodobowej oferty śniadaniowej w USA\n",
        "*  Temat 4: Zarobki pracowników\n",
        "*  Temat 7: Bojkot klientów McDonald's związany z ruchem wyswobodzenia Palestyny"
      ]
    }
  ]
}